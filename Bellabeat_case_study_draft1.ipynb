{
 "cells": [
  {
   "cell_type": "markdown",
   "metadata": {},
   "source": [
    "\n",
    "\n"
   ]
  },
  {
   "cell_type": "code",
   "execution_count": null,
   "metadata": {},
   "outputs": [],
   "source": [
    "# Set default options for code chunks\n",
    "knitr::opts_chunk$set(\n",
    "  echo = TRUE,          # Display R code and its output\n",
    "  comment=NA,           # Suppress code comments in output\n",
    "  warning = FALSE,      # Suppress warning messages\n",
    "  fig.align='center',   # Align figures in the center\n",
    "  eval = TRUE           # Evaluate R code\n",
    ")\n"
   ]
  },
  {
   "cell_type": "markdown",
   "metadata": {},
   "source": [
    "# Prepare and preprocess phase\n",
    "\n"
   ]
  },
  {
   "cell_type": "code",
   "execution_count": null,
   "metadata": {},
   "outputs": [],
   "source": [
    "# Import libraries \n",
    "library(tidyverse) # includes ggplot2\n",
    "library(skimr) #  provides a compact and informative summary of your dataframe or dataset\n",
    "library(lubridate)\n",
    "library(janitor) # set of utility functions for data cleaning and data frame tidying tasks\n",
    "library(RColorBrewer) # Color palettes for data visualization\n",
    "library(ggcorrplot) # Visualize correlation matrices using ggplot2\n",
    "library(scales) # formatting and transforming data for visualizations\n",
    "\n",
    "\n",
    "# display.brewer.all(colorblindFriendly = TRUE)\n"
   ]
  },
  {
   "cell_type": "markdown",
   "metadata": {},
   "source": [
    "## Load datasets \n",
    "\n",
    "- [Datasets:](https://www.kaggle.com/datasets/arashnic/fitbit)\n",
    "\n",
    "These datasets originate from a survey distributed on Amazon Mechanical Turk from 03.12.2016 to 05.12.2016. They include personal tracker data from 30 Fitbit users, covering physical activity, heart rate, and sleep monitoring, with differentiation based on Fitbit types and user behavior.\n",
    "\n",
    "- Metadata: [Fitbit data dictionary ](https://www.fitabase.com/resources/knowledge-base/exporting-data/data-dictionaries/)\n"
   ]
  },
  {
   "cell_type": "code",
   "execution_count": null,
   "metadata": {},
   "outputs": [],
   "source": [
    "# Clean environment\n",
    "rm(list = ls())\n",
    "\n",
    "daily_activity <-\n",
    "  read_csv(\"original_data/dailyActivity_merged.csv\",\n",
    "    trim_ws = TRUE,\n",
    "    show_col_types = FALSE\n",
    "  )\n",
    "\n",
    "daily_sleep <- read_csv(\"original_data/sleepDay_merged.csv\",\n",
    "  trim_ws = TRUE,\n",
    "  show_col_types = FALSE\n",
    ")\n",
    "\n",
    "hourly_calories <-\n",
    "  read_csv(\"original_data/hourlyCalories_merged.csv\",\n",
    "    trim_ws = TRUE,\n",
    "    show_col_types = FALSE\n",
    "  )\n",
    "\n",
    "hourly_intensities <-\n",
    "  read_csv(\"original_data/hourlyIntensities_merged.csv\",\n",
    "    trim_ws = TRUE,\n",
    "    show_col_types = FALSE\n",
    "  )\n",
    "hourly_steps <-\n",
    "  read_csv(\"original_data/hourlySteps_merged.csv\",\n",
    "    trim_ws = TRUE,\n",
    "    show_col_types = FALSE\n",
    "  )\n",
    "\n",
    "minute_sleep <-\n",
    "  read_csv(\"original_data/minuteSleep_merged.csv\",\n",
    "    trim_ws = TRUE,\n",
    "    show_col_types = FALSE\n",
    "  )\n",
    "\n",
    "seconds_heartrate <-\n",
    "  read_csv(\"original_data/heartrate_seconds_merged.csv\",\n",
    "    trim_ws = TRUE,\n",
    "    show_col_types = FALSE\n",
    "  )\n",
    "\n",
    "weight_logs <-\n",
    "  read_csv(\"original_data/weightLogInfo_merged.csv\",\n",
    "    trim_ws = TRUE,\n",
    "    show_col_types = FALSE\n",
    "  )\n",
    "\n",
    "# Remove trailing spaces (trim_ws = TRUE)\n"
   ]
  },
  {
   "cell_type": "markdown",
   "metadata": {},
   "source": [
    "dataset\n",
    "\n",
    "\n",
    "## Clean datasets\n",
    "\n",
    "### Clean the daily_activity dataset\n"
   ]
  },
  {
   "cell_type": "code",
   "execution_count": null,
   "metadata": {},
   "outputs": [],
   "source": [
    "# Check daily_activity dataset before cleaning\n",
    "glimpse(daily_activity)\n",
    "\n",
    "# Check missing values and duplicates\n",
    "cat(\n",
    "  \"\\n\",\n",
    "  \"Missing values:\",\n",
    "  sum(is.na(daily_activity)),\n",
    "  \"\\n\",\n",
    "  \"Duplicate values:\",\n",
    "  sum(duplicated(daily_activity)),\n",
    "  \"\\n\",\n",
    "  \"Unique Ids:\",\n",
    "  n_distinct(daily_activity$Id)\n",
    ")\n"
   ]
  },
  {
   "cell_type": "markdown",
   "metadata": {},
   "source": [
    "Let us clean:\n",
    "\n",
    "- Change column names to lower case because R is case sensitive.\n",
    "\n",
    "- Change \"Id\" from double to a character because the number represents a category.\n",
    "\n",
    "- Change \"ActivityDate\" from char to date.\n"
   ]
  },
  {
   "cell_type": "code",
   "execution_count": null,
   "metadata": {},
   "outputs": [],
   "source": [
    "# Clean daily_activity dataset\n",
    "\n",
    "daily_activity <-\n",
    "  # Clean column names\n",
    "  clean_names(daily_activity) %>%\n",
    "  # Correct column types\n",
    "  mutate(id = as.character(id)) %>% # from double to chr\n",
    "  mutate(activity_date = as.Date(activity_date,\n",
    "                                 format = \"%m/%d/%Y\")) %>% # from chr to date\n",
    "  # Remove duplicate rows\n",
    "  distinct()\n",
    "\n",
    "# Check daily_activity dataset after cleaning\n",
    "glimpse(daily_activity)\n",
    "\n",
    "# Check missing values and duplicates after cleaning\n",
    "cat(\"\\n\",\n",
    "    \"Missing values:\",\n",
    "    sum(is.na(daily_activity)),\n",
    "    \"\\n\",\n",
    "    \"Duplicate values:\",\n",
    "    sum(duplicated(daily_activity)))\n"
   ]
  },
  {
   "cell_type": "markdown",
   "metadata": {},
   "source": [
    "\n",
    "\n"
   ]
  },
  {
   "cell_type": "code",
   "execution_count": null,
   "metadata": {},
   "outputs": [],
   "source": [
    "# Let us print summary statistics to have a better idea of the dataset\n",
    "daily_activity %>%\n",
    "  summary()\n"
   ]
  },
  {
   "cell_type": "markdown",
   "metadata": {},
   "source": [
    "- This summary helps us explore each attribute quickly. We notice that some attributes have a minimum value of zero (total_step, total_distance, calories). Let us explore this observation.\n",
    "\n"
   ]
  },
  {
   "cell_type": "code",
   "execution_count": null,
   "metadata": {},
   "outputs": [],
   "source": [
    "# Check where total_steps is zero\n",
    "filter(daily_activity, total_steps == 0)\n"
   ]
  },
  {
   "cell_type": "markdown",
   "metadata": {},
   "source": [
    "- We found 77 observations where total_steps is zero. We should delete these observations so they do not affect our mean and median. If the total_step is zero, the person did not wear the Fitbit.\n",
    "\n"
   ]
  },
  {
   "cell_type": "code",
   "execution_count": null,
   "metadata": {},
   "outputs": [],
   "source": [
    "# Check where calories is zero\n",
    "filter(daily_activity, calories == 0)\n"
   ]
  },
  {
   "cell_type": "markdown",
   "metadata": {},
   "source": [
    "\n"
   ]
  },
  {
   "cell_type": "code",
   "execution_count": null,
   "metadata": {},
   "outputs": [],
   "source": [
    "# Check where total_distance is zero\n",
    "filter(daily_activity, total_distance == 0)\n"
   ]
  },
  {
   "cell_type": "markdown",
   "metadata": {},
   "source": [
    "- From our inspection above, we can see that we just need to delete the entries where total_steps is zero and will take take care of the rest.\n",
    "\n"
   ]
  },
  {
   "cell_type": "code",
   "execution_count": null,
   "metadata": {},
   "outputs": [],
   "source": [
    "daily_activity_clean <-\n",
    "  filter(daily_activity,\n",
    "         total_steps != 0,\n",
    "         total_distance != 0,\n",
    "         calories != 0)\n",
    "daily_activity_clean\n"
   ]
  },
  {
   "cell_type": "markdown",
   "metadata": {},
   "source": [
    "\n",
    "\n"
   ]
  },
  {
   "cell_type": "code",
   "execution_count": null,
   "metadata": {},
   "outputs": [],
   "source": [
    "names(daily_activity)\n",
    "\n"
   ]
  },
  {
   "cell_type": "markdown",
   "metadata": {},
   "source": [
    "\n",
    "\n"
   ]
  },
  {
   "cell_type": "code",
   "execution_count": null,
   "metadata": {},
   "outputs": [],
   "source": [
    "# Check the attributes again\n",
    "\n",
    "cat(\"Before deleting the entries\\n\\n\")\n",
    "select(daily_activity,total_steps,total_distance,calories) %>%\n",
    "  summary()\n",
    "\n",
    "cat(\"\\n\\n\\n\",\n",
    "    \"\\t\\t vs\",\n",
    "    \"\\n\\n\\n\")\n",
    "\n",
    "cat(\"After deleting the entries\\n\\n\")\n",
    "select(daily_activity_clean, total_steps, total_distance, calories) %>%\n",
    "  summary()\n"
   ]
  },
  {
   "cell_type": "markdown",
   "metadata": {},
   "source": [
    "- We can see that the observation we removed affected our mean and median.\n",
    "\n",
    "\n",
    "### Clean the daily_sleep dataset\n"
   ]
  },
  {
   "cell_type": "code",
   "execution_count": null,
   "metadata": {},
   "outputs": [],
   "source": [
    "# Check daily_sleep dataset before cleaning\n",
    "glimpse(daily_sleep)\n",
    "\n",
    "# Check missing values and duplicates\n",
    "cat(\"\\n\",\n",
    "    \"Missing values:\",\n",
    "    sum(is.na(daily_sleep)),\n",
    "    \"\\n\",\n",
    "    \"Duplicate values:\",\n",
    "    sum(duplicated(daily_sleep)),\n",
    "  \"\\n\",\n",
    "  \"Unique Ids:\",\n",
    "  n_distinct(daily_sleep$Id)\n",
    "    )\n"
   ]
  },
  {
   "cell_type": "markdown",
   "metadata": {},
   "source": [
    "Let us clean:\n",
    "\n",
    "- Change column names to lower case because R is case sensitive\n",
    "\n",
    "- Change \"Id\" from double to a character because the number represents a category\n",
    "\n",
    "- Change \"SleepDay\" from char to date. Since the time component of this column is the\n",
    "same for each observation\"12:00:00 AM\", we can remove it. This will helps us merged this \n",
    "dataset with daily_activity later\n",
    "  \n",
    "- Delete duplicates (3 observations are duplicates)\n"
   ]
  },
  {
   "cell_type": "code",
   "execution_count": null,
   "metadata": {},
   "outputs": [],
   "source": [
    "# Clean daily_sleep dataset\n",
    "\n",
    "daily_sleep_clean <-\n",
    "  # Clean column names\n",
    "  clean_names(daily_sleep) %>%\n",
    "  # Correct column types\n",
    "  mutate(id = as.character(id)) %>% # from double to chr\n",
    "  mutate(sleep_day = as.Date(sleep_day,\n",
    "                             format = \"%m/%d/%Y\")) %>% # from chr to date\n",
    "  # Remove duplicate rows\n",
    "  distinct()\n",
    "\n",
    "# Check clean daily_sleep dataset\n",
    "glimpse(daily_sleep_clean)\n",
    "\n",
    "# Check missing values and duplicates after cleaning\n",
    "cat(\"\\n\",\n",
    "    \"Missing values:\",\n",
    "    sum(is.na(daily_sleep_clean)),\n",
    "    \"\\n\",\n",
    "    \"Duplicate values:\",\n",
    "    sum(duplicated(daily_sleep_clean)))\n"
   ]
  },
  {
   "cell_type": "markdown",
   "metadata": {},
   "source": [
    "### Clean the hourly datasets (hourly_calories, hourly_intensities, and hourly_steps)\n",
    "\n"
   ]
  },
  {
   "cell_type": "code",
   "execution_count": null,
   "metadata": {},
   "outputs": [],
   "source": [
    "# Check hourly_calories dataset before cleaning\n",
    "glimpse(hourly_calories)\n",
    "\n",
    "# Check missing values and duplicates\n",
    "cat(\"\\n\",\n",
    "    \"Missing values:\",\n",
    "    sum(is.na(hourly_calories)),\n",
    "    \"\\n\",\n",
    "    \"Duplicate values:\",\n",
    "    sum(duplicated(hourly_calories)))\n"
   ]
  },
  {
   "cell_type": "markdown",
   "metadata": {},
   "source": [
    "\n"
   ]
  },
  {
   "cell_type": "code",
   "execution_count": null,
   "metadata": {},
   "outputs": [],
   "source": [
    "# Check hourly_intensities dataset before cleaning\n",
    "glimpse(hourly_intensities)\n",
    "\n",
    "# Check missing values and duplicates\n",
    "cat(\"\\n\",\n",
    "    \"Missing values:\",\n",
    "    sum(is.na(hourly_intensities)),\n",
    "    \"\\n\",\n",
    "    \"Duplicate values:\",\n",
    "    sum(duplicated(hourly_intensities)))\n"
   ]
  },
  {
   "cell_type": "markdown",
   "metadata": {},
   "source": [
    "\n"
   ]
  },
  {
   "cell_type": "code",
   "execution_count": null,
   "metadata": {},
   "outputs": [],
   "source": [
    "# Check hourly_steps dataset before cleaning\n",
    "glimpse(hourly_steps)\n",
    "\n",
    "# Check missing values and duplicates\n",
    "cat(\"\\n\",\n",
    "    \"Missing values:\",\n",
    "    sum(is.na(hourly_steps)),\n",
    "    \"\\n\",\n",
    "    \"Duplicate values:\",\n",
    "    sum(duplicated(hourly_steps)))\n"
   ]
  },
  {
   "cell_type": "markdown",
   "metadata": {},
   "source": [
    "### Join hourly datasets to create a hourly_actitvity dataset\n",
    "\n",
    "- These datasets shared the same Id and Activity_hour, let us join them into a new dataset (hourly_activity) before we clean them.\n"
   ]
  },
  {
   "cell_type": "code",
   "execution_count": null,
   "metadata": {},
   "outputs": [],
   "source": [
    "# Join the hourly datasets (hourly_calories, hourly_intensities, and hourly_steps)\n",
    "\n",
    "hourly_activity <-\n",
    "  inner_join(hourly_calories,\n",
    "             hourly_intensities,\n",
    "             by = c(\"Id\", \"ActivityHour\"))\n",
    "\n",
    "hourly_activity <-\n",
    "  inner_join(hourly_activity, hourly_steps, by = c(\"Id\", \"ActivityHour\"))\n"
   ]
  },
  {
   "cell_type": "markdown",
   "metadata": {},
   "source": [
    "\n",
    "\n"
   ]
  },
  {
   "cell_type": "code",
   "execution_count": null,
   "metadata": {},
   "outputs": [],
   "source": [
    "# Check hourly_activity dataset before cleaning\n",
    "glimpse(hourly_activity)\n",
    "\n",
    "# Check missing values and duplicates\n",
    "cat(\"\\n\",\n",
    "    \"Missing values:\",\n",
    "    sum(is.na(hourly_activity)),\n",
    "    \"\\n\",\n",
    "    \"Duplicate values:\",\n",
    "    sum(duplicated(hourly_activity)))\n"
   ]
  },
  {
   "cell_type": "markdown",
   "metadata": {},
   "source": [
    "Let us clean:\n",
    "\n",
    "- Change column names to lower case because R is case sensitive.\n",
    "\n",
    "- Change \"Id\" from double to a character because the number represents a category.\n",
    "\n",
    "- Change \"ActivityHour\" from char to datetime.\n",
    "\n",
    "\n",
    "Note:The default timezone is UTC.\n"
   ]
  },
  {
   "cell_type": "code",
   "execution_count": null,
   "metadata": {},
   "outputs": [],
   "source": [
    "# Clean hourly_activity dataset\n",
    "\n",
    "hourly_activity_clean <-\n",
    "  # Clean column names\n",
    "  clean_names(hourly_activity) %>%\n",
    "  # Correct column types\n",
    "  mutate(id = as.character(id)) %>% # from double to chr\n",
    "  mutate(activity_hour = as_datetime(activity_hour,\n",
    "                                     format = \"%m/%d/%Y %I:%M:%S %p\")) %>% # from chr to datetime\n",
    "  # Remove duplicate rows\n",
    "  distinct()\n",
    "\n",
    "# Check clean daily_activity dataset\n",
    "glimpse(hourly_activity_clean)\n",
    "\n",
    "# Check missing values and duplicates after cleaning\n",
    "cat(\"\\n\",\n",
    "    \"Missing values:\",\n",
    "    sum(is.na(hourly_activity_clean)),\n",
    "    \"\\n\",\n",
    "    \"Duplicate values:\",\n",
    "    sum(duplicated(hourly_activity_clean)))\n",
    "\n",
    "# as_datetime() converts with default timezone = \"UTC\"\n"
   ]
  },
  {
   "cell_type": "markdown",
   "metadata": {},
   "source": [
    "### Clean the minute_sleep dataset\n",
    "\n"
   ]
  },
  {
   "cell_type": "code",
   "execution_count": null,
   "metadata": {},
   "outputs": [],
   "source": [
    "# Check minute_sleep dataset before cleaning\n",
    "glimpse(minute_sleep)\n",
    "\n",
    "# Check missing values and duplicates\n",
    "cat(\"\\n\",\n",
    "    \"Missing values:\",\n",
    "    sum(is.na(minute_sleep)),\n",
    "    \"\\n\",\n",
    "    \"Duplicate values:\",\n",
    "    sum(duplicated(minute_sleep)),\n",
    "    \"\\n\",\n",
    "  \"Unique Ids:\",\n",
    "  n_distinct(minute_sleep$Id))\n"
   ]
  },
  {
   "cell_type": "markdown",
   "metadata": {},
   "source": [
    "Let us clean:\n",
    "\n",
    "- Change column names to lower case because R is case sensitive.\n",
    "\n",
    "- Change \"Id\" from double to a character because the number represents a category.\n",
    "\n",
    "- Change \"date\" from char to datetime.\n",
    "\n",
    "- Change \"value\" from double to factor. Value indicates the sleep state: 1 = asleep, 2 = restless, 3 = awake. For for details see: [Fitbit data dictionary ](https://www.fitabase.com/resources/knowledge-base/exporting-data/data-dictionaries/)\n",
    "\n",
    " - Remove duplicate values: 543.\n"
   ]
  },
  {
   "cell_type": "code",
   "execution_count": null,
   "metadata": {},
   "outputs": [],
   "source": [
    "# Clean minute_sleep dataset\n",
    "\n",
    "minute_sleep_clean <-\n",
    "  # Clean column names\n",
    "  clean_names(minute_sleep) %>%\n",
    "  # Correct column types\n",
    "  mutate(value = as.factor(value)) %>% # from double to chr\n",
    "  mutate(id = as.character(id)) %>% # from double to chr\n",
    "  mutate(date = as_datetime(date,\n",
    "                            format = \"%m/%d/%Y %I:%M:%S %p\")) %>% # From chr to datetime\n",
    "  # Remove duplicate rows\n",
    "  distinct()\n",
    "\n",
    "# Check clean daily_activity dataset\n",
    "glimpse(minute_sleep_clean)\n",
    "\n",
    "\n",
    "# Check missing values and duplicates after cleaning\n",
    "cat(\"\\n\",\n",
    "    \"Missing values:\",\n",
    "    sum(is.na(minute_sleep_clean)),\n",
    "    \"\\n\",\n",
    "    \"Duplicate values:\",\n",
    "    sum(duplicated(minute_sleep_clean)))\n"
   ]
  },
  {
   "cell_type": "markdown",
   "metadata": {},
   "source": [
    "### Clean the seconds_heartrate dataset\n",
    "\n"
   ]
  },
  {
   "cell_type": "code",
   "execution_count": null,
   "metadata": {},
   "outputs": [],
   "source": [
    "# Check seconds_heartrate set before cleaning\n",
    "glimpse(seconds_heartrate)\n",
    "\n",
    "# Check missing values and duplicates\n",
    "cat(\n",
    "  \"\\n\",\n",
    "  \"Missing values:\", sum(is.na(seconds_heartrate)),\n",
    "  \"\\n\",\n",
    "  \"Duplicate values:\", sum(duplicated(seconds_heartrate))\n",
    ")\n"
   ]
  },
  {
   "cell_type": "markdown",
   "metadata": {},
   "source": [
    "Let us clean:\n",
    "\n",
    "- Change column names to lower case because R is case sensitive.\n",
    "\n",
    "- Change \"Id\" from double to a character because the number represents a category.\n",
    "\n",
    "- Change \"Time\" from char to datetime and rename it date_time.\n",
    "\n",
    "- Rename \"Value\" to heart_rate. \n",
    "\n",
    "For more details see: [Fitbit data dictionary ](https://www.fitabase.com/resources/knowledge-base/exporting-data/data-dictionaries/)\n"
   ]
  },
  {
   "cell_type": "code",
   "execution_count": null,
   "metadata": {},
   "outputs": [],
   "source": [
    "# Clean seconds_heartrate dataset\n",
    "\n",
    "seconds_heartrate_clean <-\n",
    "  # Clean column names\n",
    "  clean_names(seconds_heartrate) %>%\n",
    "  # Correct column types\n",
    "  mutate(id = as.character(id)) %>% # from double to chr\n",
    "  mutate(time = as_datetime(time,\n",
    "                            format = \"%m/%d/%Y %I:%M:%S %p\")) %>% # from chr to datetime\n",
    "  # Rename columns\n",
    "  rename(date_time = time,\n",
    "         heart_rate = value) %>%\n",
    "  # Remove duplicate rows\n",
    "  distinct()\n",
    "\n",
    "# Check clean daily_activity dataset\n",
    "glimpse(seconds_heartrate_clean)\n",
    "\n",
    "\n",
    "# Check missing values and duplicates after cleaning\n",
    "\n",
    "cat(\"\\n\",\n",
    "    \"Missing values:\",\n",
    "    sum(is.na(seconds_heartrate_clean)),\n",
    "    \"\\n\",\n",
    "    \"Duplicate values:\",\n",
    "    sum(duplicated(seconds_heartrate_clean)))\n",
    "\n",
    "\n",
    "# as_datetime() converts with default timezone = \"UTC\"\n"
   ]
  },
  {
   "cell_type": "markdown",
   "metadata": {},
   "source": [
    "### Clean the weight_logs dataset\n",
    "\n"
   ]
  },
  {
   "cell_type": "code",
   "execution_count": null,
   "metadata": {},
   "outputs": [],
   "source": [
    "# Check weight_logs set before cleaning\n",
    "\n",
    "glimpse(weight_logs)\n",
    "\n",
    "# Check missing values and duplicates\n",
    "cat(\"\\n\",\n",
    "    \"Missing values:\",\n",
    "    sum(is.na(weight_logs)),\n",
    "    \"\\n\",\n",
    "    \"Duplicate values:\",\n",
    "    sum(duplicated(weight_logs)))\n"
   ]
  },
  {
   "cell_type": "markdown",
   "metadata": {},
   "source": [
    "Let us clean:\n",
    "\n",
    "- Change column names to lower case because R is case sensitive.\n",
    "\n",
    "- Change \"Id\" from double to a character because the number represents a category.\n",
    "\n",
    "- Change \"Date\" from char to datetime and rename it date_time.\n",
    "\n",
    "- Change NA to 0 in the column \"fat.\"\n"
   ]
  },
  {
   "cell_type": "code",
   "execution_count": null,
   "metadata": {},
   "outputs": [],
   "source": [
    "# Clean  weight_logs dataset\n",
    "\n",
    "weight_logs_clean <-\n",
    "  # Clean column names\n",
    "  clean_names(weight_logs) %>%\n",
    "  # Correct column types\n",
    "  mutate(id = as.character(id)) %>% # from double to chr\n",
    "  mutate(date = as_datetime(date,\n",
    "                            format = \"%m/%d/%Y %I:%M:%S %p\")) %>% # from chr to datetime\n",
    "  # Rename columns\n",
    "  rename(date_time = date) %>%\n",
    "  # Remove duplicate rows\n",
    "  distinct()\n",
    "\n",
    "# Change NA to 0 in the column \"fat\"\n",
    "weight_logs_clean$fat[is.na(weight_logs_clean$fat)] <- 0\n",
    "\n",
    "# Check clean daily_activity dataset\n",
    "glimpse(weight_logs_clean)\n",
    "\n",
    "# Check missing values and duplicates after cleaning\n",
    "\n",
    "cat(\"\\n\",\n",
    "    \"Missing values:\",\n",
    "    sum(is.na(weight_logs_clean)),\n",
    "    \"\\n\",\n",
    "    \"Duplicate values:\",\n",
    "    sum(duplicated(weight_logs_clean)))\n"
   ]
  },
  {
   "cell_type": "markdown",
   "metadata": {},
   "source": [
    "## Distribution of ids across datasets\n",
    "\n"
   ]
  },
  {
   "cell_type": "code",
   "execution_count": null,
   "metadata": {},
   "outputs": [],
   "source": [
    "# Loop through each  dataset and print th number o funiqu ids\n",
    "datasets <- c(\n",
    "    \"daily_activity_clean\",\n",
    "    \"daily_sleep_clean\",\n",
    "    \"hourly_activity_clean\",\n",
    "    \"minute_sleep_clean\",\n",
    "    \"seconds_heartrate_clean\",\n",
    "    \"weight_logs_clean\"\n",
    ")\n",
    "\n",
    "results_df <- data.frame(Dataset = character(0), distinct_IDs = integer(0))\n",
    "\n",
    "for (dataset_name in datasets) {\n",
    "    dataset <- get(dataset_name)  # Retrieve the dataset by its name\n",
    "    distinct_ids <- length(unique(dataset$id))  # Calculate the number of distinct IDs\n",
    "    \n",
    "    result_row <- data.frame(Dataset = dataset_name, distinct_IDs = distinct_ids)\n",
    "    results_df <- bind_rows(results_df, result_row)\n",
    "}\n",
    "\n",
    "sorted_results <- results_df %>% arrange(- distinct_IDs )\n",
    "\n",
    "print(sorted_results)\n"
   ]
  },
  {
   "cell_type": "markdown",
   "metadata": {},
   "source": [
    "- Differences in the number of unique IDs between the datasets can imply discrepancies in data collection methods, data incompleteness, or differing levels of user engagement.\n",
    "\n",
    "\n",
    "\n",
    "## Export clean datasets\n"
   ]
  },
  {
   "cell_type": "code",
   "execution_count": null,
   "metadata": {},
   "outputs": [],
   "source": [
    "# To uncomment the following code, select all the lines and press shift + control + c on Mac\n",
    "\n",
    "\n",
    "# write.csv(daily_activity_clean, \n",
    "#           \"daily_activity_clean.csv\", \n",
    "#           row.names = FALSE)\n",
    "# \n",
    "# write.csv(daily_sleep_clean, \n",
    "#           \"daily_sleep_clean.csv\", \n",
    "#           row.names = FALSE)\n",
    "# \n",
    "# write.csv(daily_sleep_clean, \n",
    "#           \"hourly_activity_clean.csv\", \n",
    "#           row.names = FALSE)\n",
    "# \n",
    "# write.csv(minute_sleep_clean, \n",
    "#           \"minute_sleep_clean.csv\",\n",
    "#           row.names = FALSE)\n",
    "# \n",
    "# write.csv(seconds_heartrate_clean,\n",
    "#           \"seconds_heartrate_clean.csv\",\n",
    "#           row.names = FALSE)\n",
    "# \n",
    "# write.csv(weight_logs_clean , \n",
    "#           \"weight_logs_clean .csv\",\n",
    "#           row.names = FALSE)\n"
   ]
  },
  {
   "cell_type": "markdown",
   "metadata": {},
   "source": [
    "# Analyze phase: Exploratory data analysis \n",
    "\n",
    "##  EDA for daily_activity_clean\n"
   ]
  },
  {
   "cell_type": "code",
   "execution_count": null,
   "metadata": {},
   "outputs": [],
   "source": [
    "str(daily_activity_clean)\n",
    "\n"
   ]
  },
  {
   "cell_type": "markdown",
   "metadata": {},
   "source": [
    "### Univariate analysis for daily_activity_clean\n",
    "\n",
    "#### Numerical variables\n"
   ]
  },
  {
   "cell_type": "code",
   "execution_count": null,
   "metadata": {},
   "outputs": [],
   "source": [
    "# Subset numeric columns \n",
    "num_df <- select_if(daily_activity_clean, is.numeric)\n",
    "\n",
    "# Identify numeric columns\n",
    "colnames(num_df)\n"
   ]
  },
  {
   "cell_type": "markdown",
   "metadata": {},
   "source": [
    "\n"
   ]
  },
  {
   "cell_type": "code",
   "execution_count": null,
   "metadata": {},
   "outputs": [],
   "source": [
    "# plotting all numerical variables\n",
    "col_names <- colnames(num_df)\n",
    "for (i in col_names) {\n",
    "  suppressWarnings(print(\n",
    "    ggplot(num_df, aes(num_df[[i]])) +\n",
    "      geom_histogram(\n",
    "        bins = 30,\n",
    "        color = \"black\",\n",
    "        fill = \"gray\",\n",
    "        aes(y = ..density..)\n",
    "      ) +\n",
    "      geom_density(\n",
    "        color = \"blue\",\n",
    "        size = 1\n",
    "      ) +\n",
    "      xlab(i) + ylab(\"Count\") +\n",
    "      ggtitle(paste(\"Histogram and Density Plot of\", i))\n",
    "  ))\n",
    "}\n"
   ]
  },
  {
   "cell_type": "markdown",
   "metadata": {},
   "source": [
    "Observations:\n",
    "\n",
    "- Many variables show a right-skewed distribution: a larger number of data values are located on the left side of the curve.\n",
    "\n",
    "- The variables total_steps, total_distance, tracker_distance have a similar distribution. We can explore their correlations later.\n",
    "\n",
    "- Since the distributions are not normal. The median is a better indicator of central tendency for the numerical variables in these dataset.\n",
    "\n",
    "- **The variable \"logged_activities_distance\" and \"sedentary_active_distance\" might not provide useful information since most of the data points are zero. It seems that the users are not logging the distance frequently.**\n",
    "\n",
    "- The following variables seem related. We will explore them further in the bivariate analysis section:\n",
    "\n",
    "    - sedentary_minutes; sedentary_active_distance \n",
    "    \n",
    "    - lightly_active_minutes; light_active_distance\n",
    "    \n",
    "    - fairly_active_minutes; moderately_active_distance\n",
    "    \n",
    "    - very_active_minutes; very_active_distance   \n",
    "\n",
    "- The variables calories and sedentary_minutes exhibit a multimodal distribution, indicating the presence of subpopulations within the data. In this dataset, gender could be a potential variable that would result in a bimodal distribution when examining histograms of calories and sedentary minutes. Unfortunately, the gender of the users is not provided, limiting our ability to confirm this hypothesis.\n",
    "\n",
    "\n",
    "\n",
    "#### Categorical variables\n"
   ]
  },
  {
   "cell_type": "code",
   "execution_count": null,
   "metadata": {},
   "outputs": [],
   "source": [
    "# Subset numeric columns \n",
    "\n",
    "select_if(daily_activity_clean, negate(is.numeric))\n"
   ]
  },
  {
   "cell_type": "markdown",
   "metadata": {},
   "source": [
    "\n"
   ]
  },
  {
   "cell_type": "code",
   "execution_count": null,
   "metadata": {},
   "outputs": [],
   "source": [
    "# Check counts by id\n",
    "ggplot(data=daily_activity_clean) + \n",
    "  geom_bar(mapping = aes (x= reorder(id, id,length)))+\n",
    "  xlab(\"id\") +\n",
    "  coord_flip()\n",
    "  \n",
    "#https://stackoverflow.com/a/9231857/15333580\n",
    "\n",
    "#reorder(id, id, length) takes the id variable, uses itself to determine the order, and uses the length() function to calculate the values used for ordering. Essentially, this reorders the levels of the id variable based on the length of their names.\n"
   ]
  },
  {
   "cell_type": "markdown",
   "metadata": {},
   "source": [
    "\n"
   ]
  },
  {
   "cell_type": "code",
   "execution_count": null,
   "metadata": {},
   "outputs": [],
   "source": [
    "count_max_ratio <- daily_activity_clean %>%\n",
    "  count(id) %>%\n",
    "  rename(id = \"id\", count = \"n\") %>%\n",
    "  mutate(percent_of_max = count / max(count) * 100) %>%\n",
    "  arrange(desc(percent_of_max))\n"
   ]
  },
  {
   "cell_type": "markdown",
   "metadata": {},
   "source": [
    "\n"
   ]
  },
  {
   "cell_type": "code",
   "execution_count": null,
   "metadata": {},
   "outputs": [],
   "source": [
    "# Create bar graph with percentage of entries compared to maximum\n",
    "ggplot(count_max_ratio, aes(x = reorder(id, percent_of_max), y = percent_of_max)) +\n",
    "  geom_bar(stat = \"identity\") +\n",
    "  xlab(\"ID\") +\n",
    "  ylab(\"Percentage of Maximum Count\") +\n",
    "  ggtitle(\"Count by ID and Percentage of Maximum Count\") +\n",
    "  theme_bw() +\n",
    "  theme(plot.title = element_text(hjust = 0.5)) +\n",
    "  geom_hline(yintercept=50, color=\"orange\", linewidth=1)+\n",
    "  geom_hline(yintercept=75, color=\"red\", linewidth=1)+\n",
    "  coord_flip()\n"
   ]
  },
  {
   "cell_type": "markdown",
   "metadata": {},
   "source": [
    "\n"
   ]
  },
  {
   "cell_type": "code",
   "execution_count": null,
   "metadata": {},
   "outputs": [],
   "source": [
    "# percent_of_max > 75%\n",
    "\n",
    "percent_of_max_top_75 <- filter(count_max_ratio, percent_of_max >=75)\n",
    "percent_of_max_top_75 \n"
   ]
  },
  {
   "cell_type": "markdown",
   "metadata": {},
   "source": [
    "\n"
   ]
  },
  {
   "cell_type": "code",
   "execution_count": null,
   "metadata": {},
   "outputs": [],
   "source": [
    "# percent_of_max < 75\n",
    "\n",
    "percent_of_max_under_75 <- filter(count_max_ratio, percent_of_max < 75)\n",
    "percent_of_max_under_75 \n"
   ]
  },
  {
   "cell_type": "markdown",
   "metadata": {},
   "source": [
    "\n"
   ]
  },
  {
   "cell_type": "code",
   "execution_count": null,
   "metadata": {},
   "outputs": [],
   "source": [
    "daily_activity_clean$activity_date %>% summary()\n",
    "\n"
   ]
  },
  {
   "cell_type": "markdown",
   "metadata": {},
   "source": [
    "\n"
   ]
  },
  {
   "cell_type": "code",
   "execution_count": null,
   "metadata": {},
   "outputs": [],
   "source": [
    "ggplot(data=daily_activity_clean , aes(x = activity_date)) + \n",
    "  geom_histogram(binwidth = 1, color = \"black\", fill = \"lightblue\") +\n",
    "  labs(x = \"Activity Date\", y = \"Frequency\", title = \"Distribution of Activity Date\") \n"
   ]
  },
  {
   "cell_type": "markdown",
   "metadata": {},
   "source": [
    "- It appears that there is missing activity data towards the end of the available period, specifically in the beginning of May.\n",
    "\n"
   ]
  },
  {
   "cell_type": "code",
   "execution_count": null,
   "metadata": {},
   "outputs": [],
   "source": [
    "# Investigate if the missing activity data coincides with the absence of entries for certain user IDs.\n",
    "\n",
    "ggplot(data=subset(daily_activity_clean, id %in% percent_of_max_top_75$id), aes(x = activity_date)) + \n",
    "  geom_histogram(binwidth = 1, color = \"black\", fill = \"lightblue\") +\n",
    "  labs(x = \"Activity Date\", y = \"Frequency\", title = \"Distribution of Activity Date For IDs with Above 75% of Entries\")\n"
   ]
  },
  {
   "cell_type": "markdown",
   "metadata": {},
   "source": [
    "\n",
    "\n"
   ]
  },
  {
   "cell_type": "code",
   "execution_count": null,
   "metadata": {},
   "outputs": [],
   "source": [
    "ggplot(data=subset(daily_activity_clean, id %in% percent_of_max_under_75$id), aes(x = activity_date)) + \n",
    "  geom_histogram(binwidth = 1, color = \"black\", fill = \"lightblue\") +\n",
    "  labs(x = \"Activity Date\", y = \"Frequency\", title = \"Distribution of Activity Date For IDs with under 75% of Entries\")\n"
   ]
  },
  {
   "cell_type": "markdown",
   "metadata": {},
   "source": [
    "- Users with more than 75% of data consistently report activity dates, while those with less than 75% of data show a decline in reporting starting from the end of April. The decline in Activity Date seems to be primarily due to a lack of data reporting from some users during that period.\n",
    "\n",
    "\n",
    "\n",
    "### Bivariate analysis\n",
    "\n",
    "\n",
    "#### Correlation between numerical variables\n"
   ]
  },
  {
   "cell_type": "code",
   "execution_count": null,
   "metadata": {},
   "outputs": [],
   "source": [
    "corr <- cor(select_if(daily_activity_clean, is.numeric))\n",
    "\n",
    "ggcorrplot(corr,\n",
    "           hc.order = TRUE,\n",
    "           type = \"lower\",\n",
    "           lab = TRUE,\n",
    "           colors = c(\"firebrick\", \"white\", \"royalblue\"),\n",
    "           lab_size = 4,\n",
    "           lab_col = \"black\",\n",
    "           title = \"Correlation Between Numerical Variables\")\n",
    "\n",
    "#https://rdrr.io/github/microresearcher/MicroVis/man/ggcorrplot.html\n"
   ]
  },
  {
   "cell_type": "markdown",
   "metadata": {},
   "source": [
    "sedentary_minutes; sedentary_active_distance \n",
    "lightly_active_minutes; light_active_distance  \n",
    "fairly_active_minutes; moderately_active_distance\n",
    "very_active_minutes; very_active_distance   \n"
   ]
  },
  {
   "cell_type": "code",
   "execution_count": null,
   "metadata": {},
   "outputs": [],
   "source": [
    "# Compute correlation matrix\n",
    "corr_matrix <- corr\n",
    "\n",
    "# Set the threshold for correlation\n",
    "threshold <- 0.60\n",
    "\n",
    "# Find pairs of highly correlated variables\n",
    "high_cor_pairs <- which(abs(corr_matrix) > threshold & lower.tri(corr_matrix, diag = FALSE), arr.ind = TRUE)\n",
    "\n",
    "# Extract the variable names and correlation coefficients for the correlated pairs\n",
    "variable_names <- colnames(corr_matrix)\n",
    "cor_values <- as.vector(corr_matrix[high_cor_pairs])\n",
    "\n",
    "# Create a data frame to store the correlated pairs and their correlation coefficients\n",
    "cor_data <- data.frame(\n",
    "  Variable1 = variable_names[high_cor_pairs[, 1]],\n",
    "  Variable2 = variable_names[high_cor_pairs[, 2]],\n",
    "  Correlation = cor_values\n",
    ")\n",
    "\n",
    "# Sort the correlated pairs by correlation coefficient in descending order\n",
    "sorted_cor_data <- cor_data[order(-cor_data$Correlation), ]\n",
    "\n",
    "# Remove the index\n",
    "row.names(sorted_cor_data) <- NULL\n",
    "\n",
    "# Display the sorted correlated variable pairs in the dataframe\n",
    "print(sorted_cor_data)\n"
   ]
  },
  {
   "cell_type": "markdown",
   "metadata": {},
   "source": [
    "- Total_distance, tracker_distance, and total steps are highly correlated, so we will retain only total distance and total steps as they provide similar information.\n",
    "\n",
    "- The following minute and distance types are correlated. Which indicates that they report different aspects of the same activity, this is time or distance:\n",
    "  - lightly_active_minutes and light_active_distance (corr = 0.85)\n",
    "  - fairly_active_minutes and moderately_active_distance (corr = 0.94)\n",
    "  - very_active_minutes\tand very_active_distance (corr = 0.82)\n",
    "\n",
    "- There is a moderately high correlation between the time spent during very active periods and the total number of steps/total distance:\n",
    "  - The correlation between very_active_minutes and total_distance is 0.68\n",
    "  - The correlation between very_active_minutes and total_steps is 0.66\n",
    "\n",
    "- There is a moderate correlation of 0.61 between the total duration of very active minutes and the estimated daily calories consumed.\n",
    "- There is a moderate correlation of 0.62 between the total distance covered and the estimated daily calories consumed.\n",
    "- There is a moderate correlation coefficient of 0.60 between the distance covered during light activity (light_active_distance) and the total number of steps taken (total_steps).\n",
    "\n",
    "\n",
    "#### Scatterplots of selected highly correlated variables pairs (>0.60)\n"
   ]
  },
  {
   "cell_type": "code",
   "execution_count": null,
   "metadata": {},
   "outputs": [],
   "source": [
    "# List of correlated variable pairs\n",
    "correlated_pairs <- list(c(\"total_steps\", \"total_distance\"), \n",
    "                         c(\"lightly_active_minutes\", \"light_active_distance\"),\n",
    "                         c(\"fairly_active_minutes\", \"moderately_active_distance\"),\n",
    "                         c(\"very_active_minutes\", \"very_active_distance\"),\n",
    "                         c(\"very_active_minutes\", \"total_distance\"),\n",
    "                         c(\"very_active_minutes\", \"total_steps\"),\n",
    "                         c(\"very_active_minutes\", \"calories\"),\n",
    "                         c(\"total_distance\", \"calories\"),\n",
    "                         c(\"light_active_distance\", \"total_steps\"))\n",
    "\n",
    "# Loop over each pair and create scatter plot\n",
    "for (pair in correlated_pairs) {\n",
    "  var1 <- pair[1]\n",
    "  var2 <- pair[2]\n",
    "  \n",
    "  # Calculate averages\n",
    "  avg_var1 <- mean(daily_activity_clean[[var1]], na.rm = TRUE)\n",
    "  avg_var2 <- mean(daily_activity_clean[[var2]], na.rm = TRUE)\n",
    "  \n",
    "  # Create scatter plot using ggplot2 with aes()\n",
    "  print(ggplot(data = daily_activity_clean, aes(x = !!sym(var1), y = !!sym(var2))) +\n",
    "    geom_point() +\n",
    "    geom_vline(xintercept = avg_var1, linetype = \"dashed\", color = \"red\") +\n",
    "    geom_hline(yintercept = avg_var2, linetype = \"dashed\", color = \"blue\") +\n",
    "    xlab(var1) + ylab(var2) +\n",
    "    ggtitle(paste(\"Scatter Plot with Average Reference Lines of\", var1, \"vs\", var2)))\n",
    "}\n"
   ]
  },
  {
   "cell_type": "markdown",
   "metadata": {},
   "source": [
    "### User Behavior for the daily activity dataset\n",
    "\n",
    "#### Total steps: Total number of steps taken.\n"
   ]
  },
  {
   "cell_type": "code",
   "execution_count": null,
   "metadata": {},
   "outputs": [],
   "source": [
    "# Create a boxplot for total_steps\n",
    "boxplot(daily_activity_clean$total_steps, \n",
    "        main = \"Boxplot of Total Steps\",\n",
    "        ylab = \"Total Steps\")\n",
    "\n",
    "# Calculate the median and standard deviation\n",
    "median_value <- median(daily_activity_clean$total_steps)\n",
    "std_dev <- round(sd(daily_activity_clean$total_steps),2)\n",
    "\n",
    "# Identify outliers\n",
    "outliers <- boxplot.stats(daily_activity_clean$total_steps)$out\n",
    "\n",
    "# Count the number of outliers\n",
    "num_outliers <- length(outliers)\n",
    "\n",
    "# Create the legend label with median, standard deviation, and outlier count\n",
    "legend_label <- paste(\"Median:\", median_value, \n",
    "                      \"\\nStandard Deviation:\", std_dev, \n",
    "                      \"\\nOutliers:\", num_outliers)\n",
    "\n",
    "# Add the legend with median, standard deviation, and outlier count\n",
    "legend(\"topright\", legend = legend_label, pch = \"\", col = \"black\", bty = \"n\", cex = 0.85)\n"
   ]
  },
  {
   "cell_type": "markdown",
   "metadata": {},
   "source": [
    "\n"
   ]
  },
  {
   "cell_type": "code",
   "execution_count": null,
   "metadata": {},
   "outputs": [],
   "source": [
    "# Steps averages by IDs\n",
    "steps_df <- daily_activity_clean %>%\n",
    "  group_by(id) %>%\n",
    "  summarise(average_steps = mean(total_steps), median_steps =median(total_steps), n = n())\n",
    "\n",
    "steps_df\n"
   ]
  },
  {
   "cell_type": "markdown",
   "metadata": {},
   "source": [
    "\n"
   ]
  },
  {
   "cell_type": "code",
   "execution_count": null,
   "metadata": {},
   "outputs": [],
   "source": [
    "# Calculate percentages for the average column\n",
    "at_least_10k_avg <- sum(steps_df$average_steps >= 10000) / nrow(steps_df) * 100\n",
    "between_5K_10K_avg <- sum(steps_df$average_steps >= 5000 & steps_df$average_steps < 10000) / nrow(steps_df) * 100\n",
    "below_5k_avg <- sum(steps_df$average_steps < 5000) / nrow(steps_df) * 100\n",
    "\n",
    "# Calculate percentages for the median column\n",
    "at_least_10k_med <- sum(steps_df$median_steps >= 10000) / nrow(steps_df) * 100\n",
    "between_5K_10K_med <- sum(steps_df$median_steps >= 5000 & steps_df$median_steps < 10000) / nrow(steps_df) * 100\n",
    "below_5k_med <- sum(steps_df$median_steps < 5000) / nrow(steps_df) * 100\n",
    "\n",
    "# Create a data frame for the steps categories\n",
    "percentage_steps_df<- data.frame(\n",
    "  Category = c(\"Below 5,000\", \"Between 5,000 and 10,000\", \"At least 10,000\"),\n",
    "  Percentage_Average = round(c(below_5k_avg, between_5K_10K_avg, at_least_10k_avg)),\n",
    "  Percentage_Median = round(c(below_5k_med, between_5K_10K_med, at_least_10k_med)))\n",
    "percentage_steps_df\n"
   ]
  },
  {
   "cell_type": "markdown",
   "metadata": {},
   "source": [
    "\n"
   ]
  },
  {
   "cell_type": "code",
   "execution_count": null,
   "metadata": {},
   "outputs": [],
   "source": [
    "# Convert Category to a factor with custom factor levels\n",
    "percentage_steps_df$Category <- factor(percentage_steps_df$Category, levels = c(\"Below 5,000\", \"Between 5,000 and 10,000\", \"At least 10,000\"))\n",
    "\n",
    "# Create a bar plot using ggplot\n",
    "ggplot(percentage_steps_df, aes(x = Category, y = Percentage_Average)) +\n",
    "  geom_bar(stat = \"identity\", fill = \"blue\") +\n",
    "  labs(x = \"Average Total Steps\", y = \"Percentage of Users\", title = \"58% of Users Average 5,000-10,000 Step Daily\",subtitle = \"Only 21% Achieve the 10,000-Step Goal\") +\n",
    "  geom_text(aes(label = paste0(Percentage_Average, \"%\")), vjust = -0.5, color = \"black\") + \n",
    "  ylim(0, 100) +  theme_minimal() + theme(panel.grid = element_blank())\n"
   ]
  },
  {
   "cell_type": "markdown",
   "metadata": {},
   "source": [
    "#### Total Distance: Total kilometers tracked.\n",
    "\n"
   ]
  },
  {
   "cell_type": "code",
   "execution_count": null,
   "metadata": {},
   "outputs": [],
   "source": [
    "# Create a boxplot for total_distance\n",
    "boxplot(daily_activity_clean$total_distance, \n",
    "        main = \"Boxplot of Total Distance\",\n",
    "        ylab = \"Total Distance\")\n",
    "\n",
    "# Calculate the median and standard deviation\n",
    "median_value <- median(daily_activity_clean$total_distance)\n",
    "std_dev <- sd(daily_activity_clean$total_distance)\n",
    "\n",
    "# Identify outliers\n",
    "outliers <- boxplot.stats(daily_activity_clean$total_distance)$out\n",
    "\n",
    "# Count the number of outliers\n",
    "num_outliers <- length(outliers)\n",
    "\n",
    "# Create the legend label with median, standard deviation, and outlier count\n",
    "legend_label <- paste(\"Median:\", round(median_value, 2), \n",
    "                      \"\\nStandard Deviation:\", round(std_dev, 2), \n",
    "                      \"\\nOutliers:\", num_outliers)\n",
    "\n",
    "# Add the legend with median, standard deviation, and outlier count\n",
    "legend(\"topright\", legend = legend_label, pch = \"\", col = \"black\", bty = \"n\")\n"
   ]
  },
  {
   "cell_type": "markdown",
   "metadata": {},
   "source": [
    "\n"
   ]
  },
  {
   "cell_type": "code",
   "execution_count": null,
   "metadata": {},
   "outputs": [],
   "source": [
    "# Total distance by IDs\n",
    "t_distance_df <- daily_activity_clean %>%\n",
    "  group_by(id) %>%\n",
    "  summarise(average_t_distance = mean(total_distance ), median_t_distance =median(total_distance), n = n())\n",
    "\n",
    "t_distance_df\n"
   ]
  },
  {
   "cell_type": "markdown",
   "metadata": {},
   "source": [
    "\n"
   ]
  },
  {
   "cell_type": "code",
   "execution_count": null,
   "metadata": {},
   "outputs": [],
   "source": [
    "# Calculate percentages for the average column\n",
    "at_least_10_avg<- sum(t_distance_df$average_t_distance>= 10) / nrow(t_distance_df) * 100\n",
    "between_5_10_avg <- sum(t_distance_df$average_t_distance >= 5 & t_distance_df$average_t_distance < 10) / nrow(t_distance_df) * 100\n",
    "below_5_avg <- sum(t_distance_df$average_t_distance < 5) / nrow(t_distance_df) * 100\n",
    "\n",
    "# Create a data frame for the distance categories\n",
    "percentage_t_distance_df<- data.frame(\n",
    "  Category = c(\"Below 5 km\", \"Between 5 and 10 km\", \"At least 10 km\"),\n",
    "  Percentage_Average = round(c(below_5_avg, between_5_10_avg , at_least_10_avg)))\n",
    "percentage_t_distance_df\n",
    "\n",
    "# Convert Category to a factor with custom factor levels\n",
    "percentage_t_distance_df$Category <- factor(percentage_t_distance_df$Category, levels = c(\"Below 5 km\", \"Between 5 and 10 km\", \"At least 10 km\"))\n"
   ]
  },
  {
   "cell_type": "markdown",
   "metadata": {},
   "source": [
    "\n"
   ]
  },
  {
   "cell_type": "code",
   "execution_count": null,
   "metadata": {},
   "outputs": [],
   "source": [
    "# Create a bar plot using ggplot\n",
    "ggplot(percentage_t_distance_df, aes(x = Category, y = Percentage_Average)) +\n",
    "  geom_bar(stat = \"identity\", fill = \"pink\") +\n",
    "  labs(x = \"Average Total Distance\", y = \"Percentage of Users\", title = \"55% of Users Average 5-10 Kilometers Daily\",subtitle = \"10,000 steps is approximately equal to covering 5 miles (or 8 kilometers)\") +\n",
    "  geom_text(aes(label = paste0(Percentage_Average, \"%\")), vjust = -0.5, color = \"black\") + \n",
    "  ylim(0, 100) +  theme_minimal() +theme(panel.grid = element_blank())\n"
   ]
  },
  {
   "cell_type": "markdown",
   "metadata": {},
   "source": [
    "#### Sedentary Minutes: Total minutes spent in sedentary activity.\n",
    "\n"
   ]
  },
  {
   "cell_type": "code",
   "execution_count": null,
   "metadata": {},
   "outputs": [],
   "source": [
    "# Create a boxplot for sedentary_minutes\n",
    "boxplot(daily_activity_clean$sedentary_minutes,\n",
    "        main = \"Boxplot of Sedentary Minutes\",\n",
    "        ylab = \"Sedentary Minutes\")\n",
    "\n",
    "# Calculate the median and standard deviation\n",
    "median_value <- median(daily_activity_clean$sedentary_minutes)\n",
    "std_dev <- sd(daily_activity_clean$sedentary_minutes)\n",
    "\n",
    "# Identify outliers\n",
    "outliers <- boxplot.stats(daily_activity_clean$sedentary_minutes)$out\n",
    "\n",
    "# Count the number of outliers\n",
    "num_outliers <- length(outliers)\n",
    "\n",
    "# Create the legend label with median, standard deviation, and outlier count\n",
    "legend_label <- paste(\"Median:\", round(median_value, 2),\n",
    "                      \"\\nStandard Deviation:\", round(std_dev, 2),\n",
    "                      \"\\nOutliers:\", num_outliers)\n",
    "\n",
    "# Add the legend with median, standard deviation, and outlier count\n",
    "legend(\"topright\", legend = legend_label, pch = \"\", col = \"black\", bty = \"n\", cex = 0.80)\n"
   ]
  },
  {
   "cell_type": "markdown",
   "metadata": {},
   "source": [
    "- These are high values for sedentary minutes. For instance, 1020 minutes is equivalent to 17 hours, and 1400 minutes is equivalent to 24 hours. After performing a quick search, it seems that the\n",
    "[Fitbit uses 1400](https://community.fitbit.com/t5/Other-Charge-Trackers/sedentary-minutes/td-p/3372621) as default for sedentary minutes when the device is not worn and it includes the sleeping time. \n",
    "SedentaryMinutes is total minutes spent in sedentary activity according to the data dictionary. See meta data section. Therefore, we need to substract the times sleeping to obtain an more accurate estimate of daily sedentary minutes. \n",
    "\n",
    "[Sleep time is not considered sedentary time, so it was removed to determine the waking day and to allow the proportion of the day spent sedentary to be calculated](https://www.mdpi.com/1660-4601/18/8/3914)\n"
   ]
  },
  {
   "cell_type": "code",
   "execution_count": null,
   "metadata": {},
   "outputs": [],
   "source": [
    "# Check sedentary_minutes stats\n",
    "daily_activity_clean$sedentary_minutes %>% summary()\n"
   ]
  },
  {
   "cell_type": "markdown",
   "metadata": {},
   "source": [
    "\n"
   ]
  },
  {
   "cell_type": "code",
   "execution_count": null,
   "metadata": {},
   "outputs": [],
   "source": [
    "outliers\n",
    "\n"
   ]
  },
  {
   "cell_type": "markdown",
   "metadata": {},
   "source": [
    "\n"
   ]
  },
  {
   "cell_type": "code",
   "execution_count": null,
   "metadata": {},
   "outputs": [],
   "source": [
    "# Count entries where sedentary minutes equal 1440\n",
    "count_1440 <- sum(daily_activity_clean$sedentary_minutes == 1440)\n",
    "\n",
    "# Output the count\n",
    "count_1440\n"
   ]
  },
  {
   "cell_type": "markdown",
   "metadata": {},
   "source": [
    "\n"
   ]
  },
  {
   "cell_type": "code",
   "execution_count": null,
   "metadata": {},
   "outputs": [],
   "source": [
    "# Remove rows with sedentary minutes equal to the default value (1440) and outliers\n",
    "\n",
    "daily_activity_clean <- filter(daily_activity_clean, !(sedentary_minutes %in% c(0, 2, 13, 1440)))\n"
   ]
  },
  {
   "cell_type": "markdown",
   "metadata": {},
   "source": [
    "\n"
   ]
  },
  {
   "cell_type": "code",
   "execution_count": null,
   "metadata": {},
   "outputs": [],
   "source": [
    "# Rename the column\n",
    "daily_sleep_clean <- rename(daily_sleep_clean, activity_date = sleep_day)\n",
    "\n",
    "# Join the datasets\n",
    "joined_activity_sleep <- inner_join(daily_activity_clean, daily_sleep_clean, by = c(\"id\", \"activity_date\"))\n",
    "\n",
    "\n",
    "# Check missing values and duplicates\n",
    "cat(\n",
    "  \"\\n\",\n",
    "  \"Missing values:\",\n",
    "  sum(is.na(joined_activity_sleep )),\n",
    "  \"\\n\",\n",
    "  \"Duplicate values:\",\n",
    "  sum(duplicated(joined_activity_sleep )),\n",
    "  \"\\n\",\n",
    "  \"Unique Ids:\",\n",
    "  n_distinct(joined_activity_sleep $id)\n",
    ")\n"
   ]
  },
  {
   "cell_type": "markdown",
   "metadata": {},
   "source": [
    "\n",
    "\n"
   ]
  },
  {
   "cell_type": "code",
   "execution_count": null,
   "metadata": {},
   "outputs": [],
   "source": [
    "# Create a derived column for sedentary minutes that does not include sleep time\n",
    "joined_activity_sleep <- joined_activity_sleep %>%\n",
    "  mutate(\n",
    "    sedentary_min_awake = sedentary_minutes - total_minutes_asleep,\n",
    "    sedentary_hours_awake = sedentary_min_awake / 60,\n",
    "    sedentary_percentage_diff = (sedentary_minutes - sedentary_min_awake) / sedentary_minutes * 100\n",
    "  )\n"
   ]
  },
  {
   "cell_type": "markdown",
   "metadata": {},
   "source": [
    "\n"
   ]
  },
  {
   "cell_type": "code",
   "execution_count": null,
   "metadata": {},
   "outputs": [],
   "source": [
    "# Let us check the percentage difference of sedentary_minutes and the new column \"sedentary_min_awake\n",
    "\n",
    "# Create a boxplot for sedentary_percentage_diff\n",
    "boxplot(joined_activity_sleep$sedentary_percentage_diff,\n",
    "        main = \"Boxplot of Sedentary Percentage Difference\",\n",
    "        ylab = \"Sedentary Percentage Difference\")\n",
    "\n",
    "# Calculate the median and standard deviation\n",
    "median_value <- median(joined_activity_sleep$sedentary_percentage_diff)\n",
    "std_dev <- sd(joined_activity_sleep$sedentary_percentage_diff)\n",
    "\n",
    "# Identify outliers\n",
    "outliers <- boxplot.stats(joined_activity_sleep$sedentary_percentage_diff)$out\n",
    "\n",
    "# Count the number of outliers\n",
    "num_outliers <- length(outliers)\n",
    "\n",
    "# Create the legend label with median, standard deviation, and outlier count\n",
    "legend_label <- paste(\"Median:\", round(median_value, 2),\n",
    "                      \"\\nStandard Deviation:\", round(std_dev, 2),\n",
    "                      \"\\nOutliers:\", num_outliers)\n",
    "\n",
    "# Add the legend with median, standard deviation, and outlier count\n",
    "legend(\"topright\", legend = legend_label, pch = \"\", col = \"black\", bty = \"n\", cex = 0.80)\n"
   ]
  },
  {
   "cell_type": "markdown",
   "metadata": {},
   "source": [
    "- The sedentary percentage difference has a median value of 59.95%, indicating a significant distinction between sedentary_minutes and sedentary_min_awake. This suggest that the original column \"sedentary_minutes\" included the time asleep.\n",
    "\n"
   ]
  },
  {
   "cell_type": "code",
   "execution_count": null,
   "metadata": {},
   "outputs": [],
   "source": [
    "# Create a boxplot for sedentary_min_awake\n",
    "boxplot(joined_activity_sleep$sedentary_min_awake,\n",
    "        main = \"Boxplot of Sedentary Minutes Awake\",\n",
    "        ylab = \"Sedentary Minutes Awake\")\n",
    "\n",
    "# Calculate the median and standard deviation\n",
    "median_value <- median(joined_activity_sleep$sedentary_min_awake)\n",
    "std_dev <- sd(joined_activity_sleep$sedentary_min_awake)\n",
    "\n",
    "# Identify outliers\n",
    "outliers <- boxplot.stats(joined_activity_sleep$sedentary_min_awake)$out\n",
    "\n",
    "# Count the number of outliers\n",
    "num_outliers <- length(outliers)\n",
    "\n",
    "# Create the legend label with median, standard deviation, and outlier count\n",
    "legend_label <- paste(\"Median:\", round(median_value, 2),\n",
    "                      \"\\nStandard Deviation:\", round(std_dev, 2),\n",
    "                      \"\\nOutliers:\", num_outliers)\n",
    "\n",
    "# Add the legend with median, standard deviation, and outlier count\n",
    "legend(\"topright\", legend = legend_label, pch = \"\", col = \"black\", bty = \"n\", cex = 0.80)\n"
   ]
  },
  {
   "cell_type": "markdown",
   "metadata": {},
   "source": [
    "- Observation: There appears to be an inconsistency in the data. The sedentary_minutes value is smaller than the total_minutes_asleep value, which is unexpected. \n",
    "\n"
   ]
  },
  {
   "cell_type": "code",
   "execution_count": null,
   "metadata": {},
   "outputs": [],
   "source": [
    "# Count the number of cases where sedentary_minutes is smaller than total_minutes_asleep\n",
    "count <- sum(joined_activity_sleep$sedentary_minutes < joined_activity_sleep$total_minutes_asleep)\n",
    "\n",
    "# Print the count\n",
    "count\n"
   ]
  },
  {
   "cell_type": "markdown",
   "metadata": {},
   "source": [
    "\n",
    "\n"
   ]
  },
  {
   "cell_type": "code",
   "execution_count": null,
   "metadata": {},
   "outputs": [],
   "source": [
    "# Subset the dataset\n",
    "subset_data <- joined_activity_sleep[joined_activity_sleep$sedentary_minutes < joined_activity_sleep$total_minutes_asleep, ]\n",
    "\n",
    "# View the subset data\n",
    "subset_data\n"
   ]
  },
  {
   "cell_type": "markdown",
   "metadata": {},
   "source": [
    "\n"
   ]
  },
  {
   "cell_type": "code",
   "execution_count": null,
   "metadata": {},
   "outputs": [],
   "source": [
    "# Check column names of the subset data\n",
    "subset_data %>%\n",
    "select(sedentary_minutes, total_minutes_asleep, sedentary_min_awake, calories,id, activity_date, total_steps, total_distance, very_active_minutes )\n"
   ]
  },
  {
   "cell_type": "markdown",
   "metadata": {},
   "source": [
    "\n"
   ]
  },
  {
   "cell_type": "code",
   "execution_count": null,
   "metadata": {},
   "outputs": [],
   "source": [
    "dim(subset_data)\n",
    "\n"
   ]
  },
  {
   "cell_type": "markdown",
   "metadata": {},
   "source": [
    "\n",
    "\n"
   ]
  },
  {
   "cell_type": "code",
   "execution_count": null,
   "metadata": {},
   "outputs": [],
   "source": [
    "dim(joined_activity_sleep)\n",
    "\n"
   ]
  },
  {
   "cell_type": "markdown",
   "metadata": {},
   "source": [
    "\n"
   ]
  },
  {
   "cell_type": "code",
   "execution_count": null,
   "metadata": {},
   "outputs": [],
   "source": [
    "# Use anti_join() to return a new dataset that includes all rows from the first dataset except for the rows that have a match in the second dataset.\n",
    " clean_subset<- anti_join(joined_activity_sleep, subset_data)\n",
    "dim(clean_subset)\n"
   ]
  },
  {
   "cell_type": "markdown",
   "metadata": {},
   "source": [
    "\n"
   ]
  },
  {
   "cell_type": "code",
   "execution_count": null,
   "metadata": {},
   "outputs": [],
   "source": [
    "# Create a boxplot for sedentary_min_awake\n",
    "boxplot(clean_subset$sedentary_min_awake,\n",
    "        main = \"Boxplot of Sedentary Minutes Awake\",\n",
    "        ylab = \"Sedentary Minutes Awake\")\n",
    "\n",
    "# Calculate the median and standard deviation\n",
    "median_value <- median(clean_subset$sedentary_min_awake)\n",
    "std_dev <- sd(clean_subset$sedentary_min_awake)\n",
    "\n",
    "# Identify outliers\n",
    "outliers <- boxplot.stats(clean_subset$sedentary_min_awake)$out\n",
    "\n",
    "# Count the number of outliers\n",
    "num_outliers <- length(outliers)\n",
    "\n",
    "# Create the legend label with median, standard deviation, and outlier count\n",
    "legend_label <- paste(\"Median:\", round(median_value, 2),\n",
    "                      \"\\nStandard Deviation:\", round(std_dev, 2),\n",
    "                      \"\\nOutliers:\", num_outliers)\n",
    "\n",
    "# Add the legend with median, standard deviation, and outlier count\n",
    "legend(\"topright\", legend = legend_label, pch = \"\", col = \"black\", bty = \"n\", cex = 0.80)\n"
   ]
  },
  {
   "cell_type": "markdown",
   "metadata": {},
   "source": [
    "Observation: \n",
    "\n",
    "-  By eliminating negative values from \"sedentary_min_awake,\" the resulting values now reflect a more realistic scenario.\n"
   ]
  },
  {
   "cell_type": "code",
   "execution_count": null,
   "metadata": {},
   "outputs": [],
   "source": [
    "# Total sedentary minutes awake by IDs\n",
    "t_sedentary_df <- clean_subset %>%\n",
    "  group_by(id) %>%\n",
    "  summarise(average_sedentary_min_awake = mean(sedentary_min_awake),\n",
    "            median_sedentary_min_awake = median(sedentary_min_awake), n = n())\n",
    "\n",
    "t_sedentary_df\n"
   ]
  },
  {
   "cell_type": "markdown",
   "metadata": {},
   "source": [
    "\n"
   ]
  },
  {
   "cell_type": "code",
   "execution_count": null,
   "metadata": {},
   "outputs": [],
   "source": [
    "dataset <- t_sedentary_df\n",
    "column <- \"average_sedentary_min_awake\"\n",
    "new_categories <- c(\"Below 200 minutes\", \"Between 200 and 400 minutes\", \"At least 400 minutes\")\n",
    "\n",
    "# Calculate percentages for the average column\n",
    "below_200_avg <- sum(dataset[[column]] < 200) / nrow(dataset) * 100\n",
    "between_200_400_avg <- sum(dataset[[column]] >= 200 & dataset[[column]] <= 400) / nrow(dataset) * 100\n",
    "at_least_400_avg <- sum(dataset[[column]] >= 400) / nrow(dataset) * 100\n",
    "\n",
    "# Create a data frame for the categories\n",
    "percentage_sedentary_awake_df <- data.frame(\n",
    "  Category = new_categories,\n",
    "  Percentage_Average = round(c(below_200_avg, between_200_400_avg, at_least_400_avg))\n",
    ")\n",
    "\n",
    "# Convert Category to a factor with custom factor levels\n",
    "percentage_sedentary_awake_df$Category <- factor(percentage_sedentary_awake_df$Category, levels = new_categories)\n",
    "\n",
    "percentage_sedentary_awake_df\n"
   ]
  },
  {
   "cell_type": "markdown",
   "metadata": {},
   "source": [
    "\n"
   ]
  },
  {
   "cell_type": "code",
   "execution_count": null,
   "metadata": {},
   "outputs": [],
   "source": [
    "# Create a bar plot using ggplot\n",
    "ggplot(percentage_sedentary_awake_df, aes(x = Category, y = Percentage_Average)) +\n",
    "  geom_bar(stat = \"identity\", fill = \"gray\") +\n",
    "  labs(x = \"Average Total Sedentary Min Awake\", y = \"Percentage of Users\", \n",
    "       title = \"48% of Users Have an Average of at Least 400 Daily Sedentary Minutes While Awake\",\n",
    "       subtitle = \"200 Minutes are 3 hours and 20 minutes; 400 min are 6 hours and 40 min\") +\n",
    "  geom_text(aes(label = paste0(Percentage_Average, \"%\")), vjust = -0.5, color = \"black\") + \n",
    "  ylim(0, 100) +\n",
    "  theme_minimal() +\n",
    "  theme(panel.grid = element_blank(), plot.title = element_text(size = 12), plot.subtitle = element_text(size = 10))\n"
   ]
  },
  {
   "cell_type": "markdown",
   "metadata": {},
   "source": [
    "In a representative sample of U.S. adults, over two-thirds spent 6 + hours/day sitting, and more than half did not meet the recommended 150 min/week of physical activity. The study discovered that prolonged sitting for 6+ hours/day was associated with higher body fat percentages. While exceeding 150 min/week of physical activity was linked to lower body fat percentages, achieving recommended activity levels may not fully offset the increased body fat from prolonged sitting. \n",
    "\n",
    "Jingwen Liao, Min Hu, Kellie Imm, Clifton J. Holmes, Jie Zhu, Chao Cao, Lin Yang. Association of daily sitting time and leisure-time physical activity with body fat among U.S. adults. Journal of Sport and Health Science, 2022. ISSN 2095-2546. https://doi.org/10.1016/j.jshs.2022.10.001. (https://www.sciencedirect.com/science/article/pii/S2095254622001016)\n",
    "\n",
    "#### Calories:Total estimated energy expenditure (in kilocalories). \n"
   ]
  },
  {
   "cell_type": "code",
   "execution_count": null,
   "metadata": {},
   "outputs": [],
   "source": [
    "# Create a boxplot for calories\n",
    "boxplot(daily_activity_clean$calories, \n",
    "        main = \"Boxplot of Calories\",\n",
    "        ylab = \"Calories\")\n",
    "\n",
    "# Calculate the median and standard deviation\n",
    "median_value <- median(daily_activity_clean$calories)\n",
    "std_dev <- round(sd(daily_activity_clean$calories),2)\n",
    "\n",
    "# Identify outliers\n",
    "outliers <- boxplot.stats(daily_activity_clean$calories)$out\n",
    "\n",
    "# Count the number of outliers\n",
    "num_outliers <- length(outliers)\n",
    "\n",
    "# Create the legend label with median, standard deviation, and outlier count\n",
    "legend_label <- paste(\"Median:\", median_value, \n",
    "                      \"\\nStandard Deviation:\", std_dev, \n",
    "                      \"\\nOutliers:\", num_outliers)\n",
    "\n",
    "# Add the legend with median, standard deviation, and outlier count\n",
    "legend(\"topright\", legend = legend_label, pch = \"\", col = \"black\", bty = \"n\", cex = 0.85)\n"
   ]
  },
  {
   "cell_type": "markdown",
   "metadata": {},
   "source": [
    "\n"
   ]
  },
  {
   "cell_type": "code",
   "execution_count": null,
   "metadata": {},
   "outputs": [],
   "source": [
    "outliers\n",
    "\n"
   ]
  },
  {
   "cell_type": "markdown",
   "metadata": {},
   "source": [
    "\n"
   ]
  },
  {
   "cell_type": "code",
   "execution_count": null,
   "metadata": {},
   "outputs": [],
   "source": [
    "# Calories averages by IDs\n",
    "calories_df <- daily_activity_clean %>%\n",
    "  group_by(id) %>%\n",
    "  summarise(average_calories = mean(calories), median_calories = median(calories))\n",
    "\n",
    "calories_df\n"
   ]
  },
  {
   "cell_type": "markdown",
   "metadata": {},
   "source": [
    "\n"
   ]
  },
  {
   "cell_type": "code",
   "execution_count": null,
   "metadata": {},
   "outputs": [],
   "source": [
    "# Calculate percentages for the average column\n",
    "below_1600_avg <- sum(calories_df$average_calories < 1600) / nrow(calories_df) * 100\n",
    "between_1600_2200_avg <- sum(calories_df$average_calories >= 1600 & calories_df$average_calories < 2200) / nrow(calories_df) * 100\n",
    "between_2200_3000_avg <- sum(calories_df$average_calories >= 2200 & calories_df$average_calories < 3000) / nrow(calories_df) * 100\n",
    "at_least_3000_avg <- sum(calories_df$average_calories >= 3000) / nrow(calories_df) * 100\n",
    "\n",
    "# Calculate percentages for the median column\n",
    "below_1600_med <- sum(calories_df$median_calories < 1600) / nrow(calories_df) * 100\n",
    "between_1600_2200_med <- sum(calories_df$median_calories >= 1600 & calories_df$median_calories < 2200) / nrow(calories_df) * 100\n",
    "between_2200_3000_med <- sum(calories_df$median_calories >= 2200 & calories_df$median_calories < 3000) / nrow(calories_df) * 100\n",
    "at_least_3000_med <- sum(calories_df$median_calories >= 3000) / nrow(calories_df) * 100\n",
    "\n",
    "# Create a data frame for the calories categories\n",
    "percentage_calories_df <- data.frame(\n",
    "  Category = c(\"Below 1,600\", \"Between 1,600 and 2,200\", \"Between 2,200 and 3,000\", \"At least 3,000\"),\n",
    "  Percentage_Average = round(c(below_1600_avg, between_1600_2200_avg, between_2200_3000_avg, at_least_3000_avg)),\n",
    "  Percentage_Median = round(c(below_1600_med, between_1600_2200_med, between_2200_3000_med, at_least_3000_med))\n",
    ")\n",
    "\n",
    "# Convert Category to a factor with custom factor levels\n",
    "percentage_calories_df$Category <- factor(percentage_calories_df$Category, levels = c(\"Below 1,600\", \"Between 1,600 and 2,200\", \"Between 2,200 and 3,000\", \"At least 3,000\"))\n",
    "\n",
    "percentage_calories_df\n"
   ]
  },
  {
   "cell_type": "markdown",
   "metadata": {},
   "source": [
    "\n"
   ]
  },
  {
   "cell_type": "code",
   "execution_count": null,
   "metadata": {},
   "outputs": [],
   "source": [
    "# Create a bar plot using ggplot\n",
    "ggplot(percentage_calories_df, aes(x = Category, y = Percentage_Average)) +\n",
    "  geom_bar(stat = \"identity\", fill = \"red\") +\n",
    "  labs(x = \"Calorie Categories\", y = \"Percentage of Users\", \n",
    "       title = \"42% of Users Have an Average Daily Calorie Expenditure Between 1,600 and 2,200.\",\n",
    "       subtitle = \"Most females require 1,600 to 2,200 calories per day, as per the Dietary Guidelines for Americans, 2020-2025\") +\n",
    "  geom_text(aes(label = paste0(Percentage_Average, \"%\")), vjust = -0.5, color = \"black\") + \n",
    "  ylim(0, 100) +\n",
    "  theme_minimal() +\n",
    "  theme(panel.grid = element_blank(), \n",
    "        plot.title = element_text(size = 12), \n",
    "        plot.subtitle = element_text(size = 10))\n"
   ]
  },
  {
   "cell_type": "markdown",
   "metadata": {},
   "source": [
    "\"Females ages 19 through 30 require about 1,800 to 2,400 calories a day. Males in this age group have higher calorie needs of about 2,400 to 3,000 a day. Calorie needs for adults ages 31 through 59 are generally lower; most females require about 1,600 to 2,200 calories a day and males require about 2,200 to 3,000 calories a day.\" \n",
    "\n",
    "U.S. Department of Agriculture and U.S. Department of Health and Human Services. Dietary Guidelines for Americans, 2020-2025. 9th Edition. December 2020. Available at DietaryGuidelines.gov/  \n",
    "\n",
    "\n",
    "\n",
    "#### Intensity Minutes: Time spent in one of four intensity categories.\n",
    "\n",
    "- VeryActiveMinutes: Total minutes spent in very active activity\n",
    "\n",
    "- FairlyActiveMinutes: Total minutes spent in moderate activity\n",
    "\n",
    "- LightlyActiveMinutes: Total minutes spent in light activity\n",
    "\n",
    "- SedentaryMinutes: Total minutes spent in sedentary activity\n"
   ]
  },
  {
   "cell_type": "code",
   "execution_count": null,
   "metadata": {},
   "outputs": [],
   "source": [
    "activity_minutes_df <- daily_activity_clean %>%\n",
    "  group_by(id) %>%\n",
    "  summarise(\n",
    "    average_very_active_minutes = mean(very_active_minutes),\n",
    "    average_fairly_active_minutes = mean(fairly_active_minutes),\n",
    "    average_lightly_active_minutes = mean(lightly_active_minutes),\n",
    "    average_sedentary_minutes = mean(sedentary_minutes)\n",
    "  )\n",
    "\n",
    "activity_minutes_df\n"
   ]
  },
  {
   "cell_type": "markdown",
   "metadata": {},
   "source": [
    "\n"
   ]
  },
  {
   "cell_type": "code",
   "execution_count": null,
   "metadata": {},
   "outputs": [],
   "source": [
    "# Define the custom order of legend items\n",
    "custom_order <- c( \"Very Active\", \"Fairly Active\", \"Lightly Active\", \"Sedentary\")\n",
    "\n",
    "# Create the stacked bar plot\n",
    "ggplot(activity_minutes_df, aes(y = id)) +\n",
    "  geom_bar(aes(x = average_sedentary_minutes, fill = \"Sedentary\"), stat = \"identity\", width = 0.5) +\n",
    "  geom_bar(aes(x = average_lightly_active_minutes, fill = \"Lightly Active\"), stat = \"identity\", width = 0.5) +\n",
    "  geom_bar(aes(x = average_fairly_active_minutes, fill = \"Fairly Active\"), stat = \"identity\", width = 0.5) +\n",
    "  geom_bar(aes(x = average_very_active_minutes, fill = \"Very Active\"), stat = \"identity\", width = 0.5) +\n",
    "  xlab(\"Minutes\") +\n",
    "  ylab(\"ID\") +\n",
    "  ggtitle(\"Average Activity Minutes by ID\") +\n",
    "  scale_fill_manual(name = \"\", values = c(\"Very Active\" = \"red\", \"Fairly Active\" = \"orange\", \"Lightly Active\" = \"lightgreen\", \"Sedentary\" = \"lightblue\"), breaks = custom_order) +\n",
    "  theme_minimal() +\n",
    "  theme(legend.position = \"bottom\", panel.grid = element_blank()) \n",
    "\n",
    "  \n"
   ]
  },
  {
   "cell_type": "markdown",
   "metadata": {},
   "source": [
    "\n"
   ]
  },
  {
   "cell_type": "code",
   "execution_count": null,
   "metadata": {},
   "outputs": [],
   "source": [
    "# Calculate the average for each column\n",
    "averages <- colMeans(activity_minutes_df[, c(\"average_very_active_minutes\",\n",
    "                                             \"average_fairly_active_minutes\",\n",
    "                                             \"average_lightly_active_minutes\",\n",
    "                                             \"average_sedentary_minutes\")])\n",
    "\n",
    "# Calculate the total average\n",
    "total_average <- sum(averages)\n",
    "\n",
    "# Calculate the proportions\n",
    "proportions <- averages / total_average\n",
    "\n",
    "# Create the new dataframe with modified row names\n",
    "overall_average_df<- data.frame(Average = averages,\n",
    "                     Percentage = proportions * 100)\n",
    "\n",
    "# Modify the row names\n",
    "row_names <- c(\"Very Active\", \"Fairly Active\", \"Lightly Active\", \"Sedentary\")\n",
    "row.names(overall_average_df) <- row_names\n",
    "\n",
    "# Print the new dataframe\n",
    "overall_average_df\n"
   ]
  },
  {
   "cell_type": "markdown",
   "metadata": {},
   "source": [
    "\n"
   ]
  },
  {
   "cell_type": "code",
   "execution_count": null,
   "metadata": {},
   "outputs": [],
   "source": [
    "ggplot(overall_average_df, aes(x = Percentage, y = reorder(row.names(overall_average_df), Percentage), fill = row.names(overall_average_df))) +\n",
    "  geom_bar(stat = \"identity\", width = 0.7, show.legend = FALSE) +\n",
    "  geom_text(aes(label = paste0(round(Percentage), \"%\")), hjust = -0.2, color = \"black\", size = 4) +\n",
    "  ylab(\"Minutes Intensity\") +\n",
    "  xlab(\"Percentage\") +\n",
    "  ggtitle(\"Users' Overall Average Intensity Minutes Consist Primarily of Sedentary and Lightly Active Time\") +\n",
    "  scale_fill_manual(values = c(\"Very Active\" = \"red\", \"Fairly Active\" = \"orange\", \"Lightly Active\" = \"lightgreen\", \"Sedentary\" = \"lightblue\")) +\n",
    " scale_x_continuous(labels = NULL) +\n",
    "  theme_minimal() +\n",
    "  theme(legend.position = \"none\", panel.grid = element_blank(), axis.text.y = element_text(size = 10))\n"
   ]
  },
  {
   "cell_type": "markdown",
   "metadata": {},
   "source": [
    "\"Analyzing each individual's average calorie intake can provide insights into their individual dietary habits and patterns. By comparing the individual averages to the overall average, you can identify individuals who consume more or fewer calories compared to the group average. This comparison can help in understanding variations in calorie intake and potential factors influencing individual differences.\"\n",
    "\n"
   ]
  },
  {
   "cell_type": "code",
   "execution_count": null,
   "metadata": {},
   "outputs": [],
   "source": [
    "# Define the custom order of legend items\n",
    "\n",
    "custom_order <- c(\"Very Active\", \"Fairly Active\", \"Lightly Active\", \"Sedentary\")\n",
    "\n",
    "\n",
    "# Create the stacked horizontal bar chart\n",
    "ggplot(overall_average_df, aes(x = Percentage, y = factor(1), fill = factor(row.names(overall_average_df), levels = custom_order))) +\n",
    "  geom_bar(stat = \"identity\", width = 0.7) +\n",
    "  xlab(\"Percentage\") +\n",
    "  ylab(\"\") +\n",
    "  ggtitle(\"Users' Overall Average Intensity Minutes Consist Primarily of Sedentary and Lightly Active Time\") +\n",
    "  scale_fill_manual(\n",
    "    name = \"\",\n",
    "    values = c(\n",
    "      \"Very Active\" = \"red\",\n",
    "      \"Fairly Active\" = \"orange\",\n",
    "      \"Lightly Active\" = \"lightgreen\",\n",
    "      \"Sedentary\" = \"lightblue\"\n",
    "    ),\n",
    "    breaks = custom_order\n",
    "  ) +\n",
    "  guides(fill = guide_legend(reverse = TRUE)) +  # Reverse the order of the legend\n",
    "  theme_minimal() +\n",
    "  theme(legend.position = \"top\", \n",
    "        panel.grid = element_blank(),\n",
    "         axis.text.y = element_blank(),  # Remove the y-axis text\n",
    "         plot.title = element_text(size = 12, margin = margin(b = 20))) + # Adjust the title size and margin\n",
    "  geom_vline(xintercept = 97, color = \"black\", linetype = \"dashed\") +\n",
    "  annotate(\"text\", x = 97, y = 1, label = \"   97%\", vjust = -5.5, hjust = 0.1)\n"
   ]
  },
  {
   "cell_type": "markdown",
   "metadata": {},
   "source": [
    "These indicators provide insights into activity levels, sedentary behavior, and calorie burn. They can help track progress, set goals, and evaluate user behavior over time. Remember to consider the specific context and goals of your analysis to select and customize the most relevant KPIs for your use case. The context I will use is the guidelines for physical activity and diet for Americans:\n",
    "\n",
    "- U.S. Department of Health and Human Services. (2019). Physical Activity Guidelines for Americans (2nd ed.). Available at https://health.gov/sites/default/files/2019-09/Physical_Activity_Guidelines_2nd_edition.pdf  \n",
    "- U.S. Department of Agriculture and U.S. Department of Health and Human Services. Dietary Guidelines for Americans, 2020-2025. 9th Edition. December 2020. Available at DietaryGuidelines.gov/  \n",
    "\n",
    "\n",
    "##  EDA for daily_sleep_clean\n"
   ]
  },
  {
   "cell_type": "code",
   "execution_count": null,
   "metadata": {},
   "outputs": [],
   "source": [
    "str(daily_sleep_clean)\n",
    "\n"
   ]
  },
  {
   "cell_type": "markdown",
   "metadata": {},
   "source": [
    "- activity_date (sleep_day): Date on which the sleep event started.\n",
    "\n",
    "- total_sleep_records: Number of recorded sleep periods for that day. Includes naps > 60 min.\n",
    "\n",
    "- total_minutes_asleep: Total number of minutes classified as being “asleep”.\n",
    "\n",
    "- total_time_in_bed: Total minutes spent in bed, including asleep, restless, and awake, that occurred during a defined sleep record.\n"
   ]
  },
  {
   "cell_type": "code",
   "execution_count": null,
   "metadata": {},
   "outputs": [],
   "source": [
    "#Sanity check: Verify that the value of total_time_in_bed is greater than total_minutes_asleep, as we would expect.\n",
    "daily_sleep_clean[daily_sleep_clean$total_time_in_bed < daily_sleep_clean$total_minutes_asleep,]\n"
   ]
  },
  {
   "cell_type": "markdown",
   "metadata": {},
   "source": [
    "### Univariate analysis\n",
    "\n"
   ]
  },
  {
   "cell_type": "code",
   "execution_count": null,
   "metadata": {},
   "outputs": [],
   "source": [
    "numerical_cols <- daily_sleep_clean%>%\n",
    "  select_if(is.numeric)\n",
    "\n",
    "# plotting all numerical variables\n",
    "col_names <- colnames(numerical_cols )\n",
    "for (i in col_names) {\n",
    "  suppressWarnings(print(\n",
    "    ggplot(numerical_cols , aes(numerical_cols [[i]])) +\n",
    "      geom_histogram(\n",
    "        bins = 30,\n",
    "        color = \"black\",\n",
    "        fill = \"gray\",\n",
    "        aes(y = ..density..)\n",
    "      ) +\n",
    "      geom_density(\n",
    "        color = \"blue\",\n",
    "        size = 1\n",
    "      ) +\n",
    "      xlab(i) + ylab(\"Count\") +\n",
    "      ggtitle(paste(\"Histogram with Density Plot of\", i))\n",
    "  ))\n",
    "}\n"
   ]
  },
  {
   "cell_type": "markdown",
   "metadata": {},
   "source": [
    "### Bivariate analysis\n",
    "\n",
    "#### Correlation between numerical variables\n"
   ]
  },
  {
   "cell_type": "code",
   "execution_count": null,
   "metadata": {},
   "outputs": [],
   "source": [
    "# Correlation between numerical variables\n",
    "corr <- cor(select_if(daily_sleep_clean, is.numeric))\n",
    "\n",
    "ggcorrplot(corr,\n",
    "           hc.order = TRUE,\n",
    "           type = \"lower\",\n",
    "           lab = TRUE,\n",
    "           colors = c(\"firebrick\", \"white\", \"royalblue\"),\n",
    "           lab_size = 4,\n",
    "           lab_col = \"black\",\n",
    "           title = \"Correlation Between Numerical Variables\")\n"
   ]
  },
  {
   "cell_type": "markdown",
   "metadata": {},
   "source": [
    "#### Scatterplots of total_minutes_asleep vs total_time_in_bed\n",
    "\n"
   ]
  },
  {
   "cell_type": "code",
   "execution_count": null,
   "metadata": {},
   "outputs": [],
   "source": [
    "ggplot(data = daily_sleep_clean, aes(x = total_minutes_asleep, y = total_time_in_bed)) +\n",
    "  geom_point()\n"
   ]
  },
  {
   "cell_type": "markdown",
   "metadata": {},
   "source": [
    "### User Behavior for daily sleep dataset\n",
    "\n"
   ]
  },
  {
   "cell_type": "code",
   "execution_count": null,
   "metadata": {},
   "outputs": [],
   "source": [
    "frequency_table <- as.data.frame(table(daily_sleep_clean$total_sleep_records))\n",
    "frequency_table$Percentage <- frequency_table$Freq / sum(frequency_table$Freq) * 100\n",
    "\n",
    "ggplot(data = frequency_table, aes(x = Var1, y = Freq)) +\n",
    "  geom_bar(stat = \"identity\", fill = \"steelblue\") +\n",
    "  geom_text(aes(label = paste(Freq, \" (\", percent(Percentage / 100), \")\", sep = \"\")),\n",
    "            hjust = 0.5,  vjust = -0.4, color = \"black\") +\n",
    "  labs(x = \"Total Sleep Records\", y = \"Frequency\",\n",
    "       title = \"Uncommon Napping: 89% of Sleep Records Indicate a Singular Sleep Period.\",\n",
    "       subtitle = \"Includes naps > 60 min.\")+\n",
    "  theme_minimal() +\n",
    "  theme(panel.grid = element_blank(),\n",
    "        plot.title = element_text(size = 12),\n",
    "        plot.subtitle = element_text(size = 10, margin = margin(b = 20)))\n"
   ]
  },
  {
   "cell_type": "markdown",
   "metadata": {},
   "source": [
    "#### Total minutes asleep\n",
    "\n"
   ]
  },
  {
   "cell_type": "code",
   "execution_count": null,
   "metadata": {},
   "outputs": [],
   "source": [
    "# Create a boxplot for total_minutes_asleep\n",
    "boxplot(daily_sleep_clean$total_minutes_asleep, \n",
    "        main = \"Boxplot of Total Minutes Asleep\",\n",
    "        ylab = \"Total Minutes Asleep\")\n",
    "\n",
    "# Calculate the median and standard deviation\n",
    "median_value <- median(daily_sleep_clean$total_minutes_asleep)\n",
    "std_dev <- round(sd(daily_sleep_clean$total_minutes_asleep), 2)\n",
    "\n",
    "# Identify outliers\n",
    "outliers <- boxplot.stats(daily_sleep_clean$total_minutes_asleep)$out\n",
    "\n",
    "# Count the number of outliers\n",
    "num_outliers <- length(outliers)\n",
    "\n",
    "# Create the legend label with median, standard deviation, and outlier count\n",
    "legend_label <- paste(\"Median:\", median_value, \n",
    "                      \"\\nStandard Deviation:\", std_dev, \n",
    "                      \"\\nOutliers:\", num_outliers)\n",
    "\n",
    "# Add the legend with median, standard deviation, and outlier count\n",
    "legend(\"topright\", legend = legend_label, pch = \"\", col = \"black\", bty = \"n\", cex = 0.85)\n"
   ]
  },
  {
   "cell_type": "markdown",
   "metadata": {},
   "source": [
    "\n",
    "\n"
   ]
  },
  {
   "cell_type": "code",
   "execution_count": null,
   "metadata": {},
   "outputs": [],
   "source": [
    "# Sleep duration averages by IDs with standard deviation and count (n)\n",
    "sleep_df <- daily_sleep_clean %>%\n",
    "  group_by(id) %>%\n",
    "  summarise(average_sleep_minutes = mean(total_minutes_asleep),\n",
    "            standard_deviation_sleep_minutes = sd(total_minutes_asleep),\n",
    "            n = n())\n",
    "\n",
    "sleep_df\n"
   ]
  },
  {
   "cell_type": "markdown",
   "metadata": {},
   "source": [
    "\n"
   ]
  },
  {
   "cell_type": "code",
   "execution_count": null,
   "metadata": {},
   "outputs": [],
   "source": [
    "# Drop ID \"2320127002\" due to insufficient data for computing mean and standard deviation.\n",
    "sleep_df <- sleep_df %>% \n",
    "filter(id != \"2320127002\")\n"
   ]
  },
  {
   "cell_type": "markdown",
   "metadata": {},
   "source": [
    "\n"
   ]
  },
  {
   "cell_type": "code",
   "execution_count": null,
   "metadata": {},
   "outputs": [],
   "source": [
    "sleep_df \n",
    "\n"
   ]
  },
  {
   "cell_type": "markdown",
   "metadata": {},
   "source": [
    "\n"
   ]
  },
  {
   "cell_type": "code",
   "execution_count": null,
   "metadata": {},
   "outputs": [],
   "source": [
    "# Calculate percentages for the average column\n",
    "below_6_hours <- sum(sleep_df$average_sleep_minutes < 360) / nrow(sleep_df) * 100\n",
    "between_6_7_hours <- sum(sleep_df$average_sleep_minutes >= 360 & sleep_df$average_sleep_minutes < 420) / nrow(sleep_df) * 100\n",
    "at_least_7_hours <- sum(sleep_df$average_sleep_minutes >= 420) / nrow(sleep_df) * 100\n",
    "\n",
    "# Create a data frame for the sleep duration categories\n",
    "percentage_sleep_df <- data.frame(\n",
    "  Category = c(\"Below 6 hours\", \"Between 6 and 7 hours\", \"At least 7 hours\"),\n",
    "  Percentage_Average = round(c(below_6_hours, between_6_7_hours, at_least_7_hours))\n",
    ")\n",
    "\n",
    "# Convert Category to a factor with custom factor levels\n",
    "percentage_sleep_df$Category <- factor(percentage_sleep_df$Category, levels = c(\"Below 6 hours\", \"Between 6 and 7 hours\", \"At least 7 hours\"))\n",
    "\n",
    "percentage_sleep_df\n"
   ]
  },
  {
   "cell_type": "markdown",
   "metadata": {},
   "source": [
    "\n"
   ]
  },
  {
   "cell_type": "code",
   "execution_count": null,
   "metadata": {},
   "outputs": [],
   "source": [
    "str(percentage_sleep_df)\n",
    "\n"
   ]
  },
  {
   "cell_type": "markdown",
   "metadata": {},
   "source": [
    "\n"
   ]
  },
  {
   "cell_type": "code",
   "execution_count": null,
   "metadata": {},
   "outputs": [],
   "source": [
    "ggplot(percentage_sleep_df, aes(x = Category, y = Percentage_Average)) +\n",
    "  geom_bar(stat = \"identity\", fill = \"purple\") +\n",
    "  labs(x = \"Average Sleep Duration\", y = \"Percentage of Users\", \n",
    "       title = \"52% of Users Get Less Than 7 Hours of Sleep on Average Daily\") +\n",
    "  geom_text(aes(label = paste0(Percentage_Average, \"%\")), vjust = -0.5, color = \"black\") + \n",
    "  ylim(0, 100) +\n",
    "  theme_minimal() +\n",
    "  theme(panel.grid = element_blank(), plot.title = element_text(size = 12), plot.subtitle = element_text(size = 10))\n"
   ]
  },
  {
   "cell_type": "markdown",
   "metadata": {},
   "source": [
    "#### Sleep duration consistency\n",
    "\n"
   ]
  },
  {
   "cell_type": "code",
   "execution_count": null,
   "metadata": {},
   "outputs": [],
   "source": [
    "#Error bars\n",
    "\n",
    "# Convert average_sleep_minutes and standard_deviation_sleep_minutes to hours\n",
    "sleep_df$average_sleep_hours <- sleep_df$average_sleep_minutes / 60\n",
    "sleep_df$standard_deviation_sleep_hours <- sleep_df$standard_deviation_sleep_minutes / 60\n",
    "\n",
    "\n",
    "# Create a bar plot for each 'id' with error bars representing standard deviation\n",
    "ggplot(sleep_df, aes(x = id, y = average_sleep_hours)) +\n",
    "  geom_bar(stat = \"identity\", fill = \"skyblue\", color = \"black\") +\n",
    "  geom_errorbar(aes(ymin = average_sleep_hours - standard_deviation_sleep_minutes / 60,\n",
    "                    ymax = average_sleep_hours + standard_deviation_sleep_minutes / 60),\n",
    "                width = 0.2, position = position_dodge(0.9), color = \"black\") +\n",
    "  labs(x = \"ID\", y = \"Average Sleep Duration (hours)\",\n",
    "       title = \"Sleep Consistency: Average Sleep Duration with Error Bars\",\n",
    "       subtitle = \"Error bars represent the standard deviation around the mean.\") +\n",
    "  theme_minimal() +\n",
    "  theme(axis.text.x = element_text(angle = 45, hjust = 1)) +\n",
    "  geom_hline(yintercept = 7, linetype = \"dashed\", color = \"red\") +\n",
    "  scale_y_continuous(breaks = seq(0, 12, 1))  # Adjust the range as needed\n"
   ]
  },
  {
   "cell_type": "markdown",
   "metadata": {},
   "source": [
    "\n"
   ]
  },
  {
   "cell_type": "code",
   "execution_count": null,
   "metadata": {},
   "outputs": [],
   "source": [
    "# Calculate sleep duration averages and standard deviations in hours\n",
    "sleep_df <- daily_sleep_clean %>%\n",
    "  group_by(id) %>%\n",
    "  summarise(n = n(),\n",
    "            average_sleep_hours = mean(total_minutes_asleep) / 60,       # Convert minutes to hours\n",
    "            average_time_in_bed_hours = mean(total_time_in_bed) / 60,   \n",
    "            standard_deviation_sleep_hours = sd(total_minutes_asleep) / 60,     \n",
    "            standard_deviation_time_in_bed_hours = sd(total_time_in_bed) / 60,    \n",
    "           ) %>%\n",
    "  mutate(time_difference_hours = average_time_in_bed_hours - average_sleep_hours,  # Calculate the time difference in hours\n",
    "         average_awake_in_bed_hours = time_difference_hours,  # Rename column \"awake_in_bed\"\n",
    "         sd_awake_in_bed_hours = sd(time_difference_hours))  # Calculate SD for \"awake_in_bed\" in hours\n",
    "\n",
    "\n",
    "sleep_df\n"
   ]
  },
  {
   "cell_type": "markdown",
   "metadata": {},
   "source": [
    "\n"
   ]
  },
  {
   "cell_type": "code",
   "execution_count": null,
   "metadata": {},
   "outputs": [],
   "source": [
    "# Drop ID \"2320127002\" due to insufficient data for computing mean and standard deviation.\n",
    "sleep_df <- sleep_df %>% \n",
    "filter(id != \"2320127002\")\n",
    "dim(sleep_df)\n"
   ]
  },
  {
   "cell_type": "markdown",
   "metadata": {},
   "source": [
    "\n"
   ]
  },
  {
   "cell_type": "code",
   "execution_count": null,
   "metadata": {},
   "outputs": [],
   "source": [
    "create_boxplots_in_one_output <- function(data_frame, columns_to_analyze, decimal_places = 2) {\n",
    "  num_columns <- length(columns_to_analyze)\n",
    "  num_rows <- ceiling(num_columns / 2)\n",
    "  \n",
    "  par(mfrow = c(num_rows, 2))  # Set the plotting layout\n",
    "  \n",
    "  for (i in 1:num_columns) {\n",
    "    column_name <- columns_to_analyze[i]\n",
    "    boxplot(data_frame[[column_name]],\n",
    "            ylab = column_name)\n",
    "    \n",
    "    median_value <- median(data_frame[[column_name]])\n",
    "    std_dev <- round(sd(data_frame[[column_name]]), decimal_places)\n",
    "    outliers <- boxplot.stats(data_frame[[column_name]])$out\n",
    "    num_outliers <- length(outliers)\n",
    "    \n",
    "    legend_label <- paste(\"Median:\", round(median_value, decimal_places),\n",
    "                          \"\\nSD:\", std_dev,\n",
    "                          \"\\nOutliers:\", num_outliers)\n",
    "    \n",
    "    legend(\"topright\", legend = legend_label, pch = \"\", col = \"black\", bty = \"n\", cex = 0.75)\n",
    "  }\n",
    "  \n",
    "  par(mfrow = c(1, 1))  # Reset the plotting layout to default\n",
    "}\n",
    "\n",
    "# Columns to analyze\n",
    "columns_to_analyze <- c(\"average_sleep_hours\", \"average_awake_in_bed_hours\")\n",
    "\n",
    "# Call the function to create boxplots in one output\n",
    "create_boxplots_in_one_output(sleep_df, columns_to_analyze, decimal_places = 2)\n"
   ]
  },
  {
   "cell_type": "markdown",
   "metadata": {},
   "source": [
    "\n"
   ]
  },
  {
   "cell_type": "code",
   "execution_count": null,
   "metadata": {},
   "outputs": [],
   "source": [
    "# Columns to analyze\n",
    "columns_to_analyze <- c(\"standard_deviation_sleep_hours\", \"sd_awake_in_bed_hours\")\n",
    "\n",
    "# Call the function\n",
    "create_boxplots_in_one_output(sleep_df, columns_to_analyze, decimal_places = 2)\n"
   ]
  },
  {
   "cell_type": "markdown",
   "metadata": {},
   "source": [
    "\n"
   ]
  },
  {
   "cell_type": "code",
   "execution_count": null,
   "metadata": {},
   "outputs": [],
   "source": [
    "#Columns with outliers to remove\n",
    "columns_with_outliers <- c(\"average_sleep_hours\", \"average_awake_in_bed_hours\", \"standard_deviation_sleep_hours\")\n",
    "\n",
    "# Function to remove outliers from a column\n",
    "remove_outliers <- function(data, column_name) {\n",
    "  outlier_bounds <- boxplot.stats(data[[column_name]])$out\n",
    "  data_no_outliers<- data[!(data[[column_name]] %in% outlier_bounds), ]\n",
    "  return(data_no_outliers)\n",
    "}\n",
    "\n",
    "# Loop through each column and remove outliers\n",
    "for (col in columns_with_outliers) {\n",
    "  sleep_df <- remove_outliers(sleep_df, col)\n",
    "}\n"
   ]
  },
  {
   "cell_type": "markdown",
   "metadata": {},
   "source": [
    "\n"
   ]
  },
  {
   "cell_type": "code",
   "execution_count": null,
   "metadata": {},
   "outputs": [],
   "source": [
    "sleep_df\n",
    "\n"
   ]
  },
  {
   "cell_type": "markdown",
   "metadata": {},
   "source": [
    "\n"
   ]
  },
  {
   "cell_type": "code",
   "execution_count": null,
   "metadata": {},
   "outputs": [],
   "source": [
    "# Check if outliers were removed\n",
    "columns_to_analyze <- c(\"average_sleep_hours\", \"average_awake_in_bed_hours\", \"standard_deviation_sleep_hours\")\n",
    "\n",
    "\n",
    "# Call the function to create boxplots in one output\n",
    "create_boxplots_in_one_output(sleep_df, columns_to_analyze, decimal_places = 2)\n"
   ]
  },
  {
   "cell_type": "markdown",
   "metadata": {},
   "source": [
    "\n"
   ]
  },
  {
   "cell_type": "code",
   "execution_count": null,
   "metadata": {},
   "outputs": [],
   "source": [
    "#Let us divide the users into irregular sleepers and regular sleepers. We will use the 75th percentile as the threshold to determine irregular sleepers. The rest will be considered regular sleepers.\n",
    "\n",
    "# Define the Threshold (e.g., using the 75th percentile)\n",
    "threshold <- quantile(sleep_df$standard_deviation_sleep_hours, 0.75)\n",
    "\n",
    "# Create a new column \"sleeper_type\" based on the threshold\n",
    "sleep_df$sleeper_type <- ifelse(sleep_df$standard_deviation_sleep_hours > threshold, \"irregular\", \"regular\")\n"
   ]
  },
  {
   "cell_type": "markdown",
   "metadata": {},
   "source": [
    "\n"
   ]
  },
  {
   "cell_type": "code",
   "execution_count": null,
   "metadata": {},
   "outputs": [],
   "source": [
    "sleep_df\n",
    "\n"
   ]
  },
  {
   "cell_type": "markdown",
   "metadata": {},
   "source": [
    "\n"
   ]
  },
  {
   "cell_type": "code",
   "execution_count": null,
   "metadata": {},
   "outputs": [],
   "source": [
    "# sleep_type counts\n",
    "table(sleep_df$sleeper_type)\n"
   ]
  },
  {
   "cell_type": "markdown",
   "metadata": {},
   "source": [
    "\n"
   ]
  },
  {
   "cell_type": "code",
   "execution_count": null,
   "metadata": {},
   "outputs": [],
   "source": [
    "sleep_df\n",
    "\n"
   ]
  },
  {
   "cell_type": "markdown",
   "metadata": {},
   "source": [
    "\n"
   ]
  },
  {
   "cell_type": "code",
   "execution_count": null,
   "metadata": {},
   "outputs": [],
   "source": [
    "color_options <- c(\"#E69F00\", \"#0072B2\") # Blue: \"#0072B2\", Orange: \"#E69F00\"\n",
    "\n",
    "# Function to create the violin plot for a given y-axis column\n",
    "create_violin_plot <- function(data, x_axis_col, y_axis_col) {\n",
    "  ggplot(data, aes_string(x = x_axis_col, y = y_axis_col, fill = x_axis_col)) +\n",
    "    geom_violin(scale = \"width\", draw_quantiles = c(0.25, 0.5, 0.75), trim = FALSE) +\n",
    "    geom_boxplot(width = 0.1, fill = \"white\", color = \"black\") +\n",
    "    labs(x = \"Sleeper Type\", y = y_axis_col, title = paste(\"Comparison\",x_axis_col,\"for\", y_axis_col)) +\n",
    "    scale_fill_manual(values = color_options) +\n",
    "    theme_minimal()\n",
    "}\n"
   ]
  },
  {
   "cell_type": "markdown",
   "metadata": {},
   "source": [
    "\n"
   ]
  },
  {
   "cell_type": "code",
   "execution_count": null,
   "metadata": {},
   "outputs": [],
   "source": [
    "# Call the function to create the violin plots for each column\n",
    "for (col in c(\"average_sleep_hours\", \"standard_deviation_sleep_hours\", \"average_awake_in_bed_hours\",\"sd_awake_in_bed_hours\")) {\n",
    "  plot <- create_violin_plot(sleep_df, \"sleeper_type\", col)\n",
    "  print(plot)\n",
    "}\n"
   ]
  },
  {
   "cell_type": "markdown",
   "metadata": {},
   "source": [
    "Observations:\n",
    "\n",
    "- Regular sleepers tend to have higher median average sleep hours compared to irregular sleepers.This suggests that individuals classified as regular sleepers are likely getting more sleep on average than those categorized as irregular sleepers.\n",
    "\n",
    "- Additionally, the spread of the \"average_sleep_hours\" for irregular sleepers appears to be wider, indicating more variability in their sleep duration. In contrast, the violin plot for regular sleepers shows a narrower spread, suggesting that their sleep duration is more consistent.\n",
    "\n",
    "- Regular sleepers exhibit a slightly higher median average awake-in-bed duration compared to irregular sleepers.\n",
    "\n",
    "Summary: Regular sleepers get more sleep on average, have a more consistent sleep duration, and slightly higher median awake-in-bed duration than irregular sleepers.\n",
    "\n",
    "## EDA minute_sleep_clean\n"
   ]
  },
  {
   "cell_type": "code",
   "execution_count": null,
   "metadata": {},
   "outputs": [],
   "source": [
    "str(minute_sleep_clean)\n",
    "\n"
   ]
  },
  {
   "cell_type": "markdown",
   "metadata": {},
   "source": [
    "This data seems to come from the Classic Sleep Log (1 minute)\n",
    "\n",
    "Value indicating the sleep state.\n",
    "1 = asleep, 2 = restless, 3 = awake\n",
    "\n",
    "\n",
    "For more detail check :  [Fitbit data dictionary ](https://www.fitabase.com/resources/knowledge-base/exporting-data/data-dictionaries/)\n"
   ]
  },
  {
   "cell_type": "code",
   "execution_count": null,
   "metadata": {},
   "outputs": [],
   "source": [
    "# Add labels to the velue column\n",
    "minute_sleep_clean$value <- factor(minute_sleep_clean$value, levels = c(\"1\", \"2\", \"3\"), labels = c(\"asleep\", \"restless\", \"awake\"))\n"
   ]
  },
  {
   "cell_type": "markdown",
   "metadata": {},
   "source": [
    "\n"
   ]
  },
  {
   "cell_type": "code",
   "execution_count": null,
   "metadata": {},
   "outputs": [],
   "source": [
    "minute_sleep_clean %>% summary()\n",
    "\n"
   ]
  },
  {
   "cell_type": "markdown",
   "metadata": {},
   "source": [
    "\n"
   ]
  },
  {
   "cell_type": "code",
   "execution_count": null,
   "metadata": {},
   "outputs": [],
   "source": [
    "# Assuming \"value\" column represents total sleep records\n",
    "frequency_table <- as.data.frame(table(minute_sleep_clean$value))\n",
    "frequency_table$Percentage <- frequency_table$Freq / sum(frequency_table$Freq) * 100\n",
    "\n",
    "ggplot(data = frequency_table, aes(x = Var1, y = Freq)) +\n",
    "  geom_bar(stat = \"identity\", fill = \"#008080\") +\n",
    "  geom_text(aes(label = paste(Freq, \" (\", percent(Percentage / 100), \")\", sep = \"\")),\n",
    "            hjust = 0.5,  vjust = -0.4, color = \"black\") +\n",
    "  labs(x = \"Total Minutes Records\", y = \"Frequency\",\n",
    "       title = \"User Sleep States: 91% of Minutes Spent Asleep with Minimal Interruptions:\",\n",
    "       subtitle = \"Restlessness: 7.4% | Awake: 1.1%\") +\n",
    "  theme_minimal() +\n",
    "  theme(panel.grid = element_blank(),\n",
    "        plot.title = element_text(size = 12),\n",
    "        plot.subtitle = element_text(size = 10, margin = margin(b = 20)))\n"
   ]
  },
  {
   "cell_type": "markdown",
   "metadata": {},
   "source": [
    "##  EDA for hourly_activity_clean\n",
    "\n"
   ]
  },
  {
   "cell_type": "code",
   "execution_count": null,
   "metadata": {},
   "outputs": [],
   "source": [
    "str(hourly_activity_clean)\n",
    "\n"
   ]
  },
  {
   "cell_type": "markdown",
   "metadata": {},
   "source": [
    "- Calories integer Total number of estimated calories burned.\n",
    "\n",
    "- TotalIntensity: integer Value calculated by adding all the minute-level\n",
    "intensity values that occurred within the hour.\n",
    "\n",
    "- AverageIntensity: intensity state exhibited during that\n",
    "hour (TotalIntensity for that ActivityHour divided by 60)\n",
    "\n",
    "- StepTotal: Total number of steps taken.\n",
    "\n",
    "For more detail check :  [Fitbit data dictionary ](https://www.fitabase.com/resources/knowledge-base/exporting-data/data-dictionaries/)\n"
   ]
  },
  {
   "cell_type": "code",
   "execution_count": null,
   "metadata": {},
   "outputs": [],
   "source": [
    "hourly_df <-hourly_activity_clean\n",
    "\n",
    "\n",
    "# Extract \"am\" or \"pm\" from the activity_hour column\n",
    "hourly_df$am_pm <- ifelse(format(hourly_df$activity_hour, \"%p\") == \"AM\", \"am\", \"pm\")\n",
    "\n",
    "#Add a column for the hour\n",
    "hourly_df$hour <- format(hourly_df$activity_hour, \"%H\")\n"
   ]
  },
  {
   "cell_type": "markdown",
   "metadata": {},
   "source": [
    "\n"
   ]
  },
  {
   "cell_type": "code",
   "execution_count": null,
   "metadata": {},
   "outputs": [],
   "source": [
    "# Define colors for AM and PM\n",
    "color_palette <- c(\"#FFA500\", \"#ADD8E6\")  # Orange for AM, Light Blue for PM\n",
    "\n",
    "# Custom function to generate the boxplot with dynamically set y-axis limits\n",
    "generate_boxplot <- function(data, y_var, y_label, limit_factor) {\n",
    "  y_limit <- quantile(data[[y_var]], 0.95) * limit_factor\n",
    "  \n",
    "  ggplot(data, aes(x = hour, y = get(y_var), fill = am_pm)) +\n",
    "    geom_boxplot(position = position_dodge(0.9), outlier.shape = NA) +\n",
    "    scale_fill_manual(values = color_palette) +\n",
    "    labs(title = paste(\"Median\", y_label, \"by Hour\"),\n",
    "         x = \"Hour\",\n",
    "         y = paste(\"Median\", y_label)) +\n",
    "    guides(fill = guide_legend(title = NULL)) +  # Remove legend title\n",
    "    theme_minimal() +\n",
    "    theme(panel.grid.major.x = element_blank()) +\n",
    "    coord_cartesian(ylim = c(0, y_limit))\n",
    "}\n",
    "\n",
    "# Assuming your dataset is named 'hourly_df1'\n",
    "data <- hourly_df\n",
    "\n",
    "# Create the plots with dynamically adjusted y-axis limits\n",
    "# Adjust the limit_factor as needed (e.g., 1.1, 1.2, etc.)\n",
    "calories_plot <- generate_boxplot(data, \"calories\", \"Calorie Burn\", limit_factor = 1.4)\n",
    "total_intensity_plot <- generate_boxplot(data, \"total_intensity\", \"Total Intensity\", limit_factor = 1.3)\n",
    "step_total_avg_plot <- generate_boxplot(data, \"step_total\", \"Total Steps\", limit_factor = 1.3)\n",
    "\n",
    "# Print the plots\n",
    "print(calories_plot)\n",
    "print(total_intensity_plot)\n",
    "print(step_total_avg_plot)\n"
   ]
  },
  {
   "cell_type": "markdown",
   "metadata": {},
   "source": [
    "\n"
   ]
  },
  {
   "cell_type": "code",
   "execution_count": null,
   "metadata": {},
   "outputs": [],
   "source": [
    "# Group by id, hour, and am_pm and summarize the columns\n",
    "summary_data <- hourly_df %>%\n",
    "  group_by(id, hour, am_pm) %>%\n",
    "  summarize(\n",
    "    calories_avg = mean(calories),\n",
    "    calories_max = max(calories),\n",
    "    calories_min = min(calories),\n",
    "    total_intensity_avg = mean(total_intensity),\n",
    "    total_intensity_max = max(total_intensity),\n",
    "    total_intensity_min = min(total_intensity),\n",
    "    average_intensity_avg = mean(average_intensity),\n",
    "    step_total_avg = mean(step_total),\n",
    "    observations_count = n()\n",
    "  )\n"
   ]
  },
  {
   "cell_type": "markdown",
   "metadata": {},
   "source": [
    "\n"
   ]
  },
  {
   "cell_type": "code",
   "execution_count": null,
   "metadata": {},
   "outputs": [],
   "source": [
    "# Define colors for AM and PM\n",
    "color_palette <- c(\"#FFA500\", \"#ADD8E6\")  # Orange for AM, Light Blue for PM\n",
    "\n",
    "# Custom function to generate the bar plot with dynamically set y-axis limits\n",
    "generate_bar_plot <- function(data, y_var, y_label, limit_factor) {\n",
    "  y_limit <- max(data[[paste0(y_var, \"_avg\")]]) * limit_factor\n",
    "  \n",
    "  ggplot(data, aes(x = hour, y = get(paste0(y_var, \"_avg\")), fill = am_pm)) +\n",
    "    geom_bar(stat = \"identity\", position = \"dodge\") +\n",
    "    scale_fill_manual(values = color_palette) +\n",
    "    labs(title = paste(\"Average\", y_label, \"by Hour\"),\n",
    "         x = \"Hour\",\n",
    "         y = paste(\"Average\", y_label)) +\n",
    "    guides(fill = guide_legend(title = NULL)) +  # Remove legend title\n",
    "    theme_minimal() +\n",
    "    theme(panel.grid.major.x = element_blank()) +\n",
    "    coord_cartesian(ylim = c(0, y_limit))\n",
    "}\n",
    "\n",
    "# Assuming your dataset is named 'summary_data'\n",
    "data <- summary_data\n",
    "\n",
    "# Create the bar plots with dynamically adjusted y-axis limits\n",
    "calories_plot <- generate_bar_plot(data, \"calories\", \"Calorie Burn\", limit_factor = 1.2)\n",
    "total_intensity_plot <- generate_bar_plot(data, \"total_intensity\", \"Total Intensity\", limit_factor = 1.2)\n",
    "steps_plot <- generate_bar_plot(data, \"step_total\", \"Steps Taken\", limit_factor = 1.1)\n",
    "\n",
    "# Print the plots\n",
    "print(calories_plot)\n",
    "print(total_intensity_plot)\n",
    "print(steps_plot)\n"
   ]
  },
  {
   "cell_type": "markdown",
   "metadata": {},
   "source": [
    "\n",
    "\n"
   ]
  },
  {
   "cell_type": "code",
   "execution_count": null,
   "metadata": {},
   "outputs": [],
   "source": [
    "# Function to create a box plot with customizable orientation and colors for a given y-axis column\n",
    "create_custom_box_plot <- function(data, x_axis_col, y_axis_col, orientation = \"ver\", colors) {\n",
    "  ggplot(data, aes_string(x = x_axis_col, y = y_axis_col, fill = x_axis_col)) +\n",
    "    geom_boxplot(width = ifelse(orientation == \"ver\", 0.2, 0.5),\n",
    "                 color = \"black\") +  # Remove fill = \"white\"\n",
    "    labs(x = \"\", y = y_axis_col,\n",
    "         title = paste(\"Comparison\", x_axis_col, \"for\", y_axis_col)) +\n",
    "    scale_fill_manual(values = colors) +\n",
    "     guides(fill = \"none\") +  # Remove the legend for fill color\n",
    "    theme_minimal() +\n",
    "    if (orientation == \"hor\") coord_flip()\n",
    "}\n",
    "\n",
    "# Call the function with custom colors as a tuple and specify the x-axis label\n",
    "custom_colors <- c(\"#FFA500\", \"#ADD8E6\")  # Orange for AM, Light Blue for PM\n",
    "\n",
    "\n",
    "for (col in c(\"calories\", \"total_intensity\", \"step_total\")) {\n",
    "  plot <- create_custom_box_plot(hourly_df, x_axis_col = \"am_pm\", y_axis_col = col, orientation = \"hor\", colors = custom_colors)\n",
    "  print(plot)\n",
    "}\n"
   ]
  },
  {
   "cell_type": "markdown",
   "metadata": {},
   "source": [
    "AM vs. PM Activity: The \"am_pm\" column indicates whether the activity occurred during the morning (AM) or afternoon/evening (PM). You can compare the activity patterns between these two periods and explore any differences in user behavior during these times.\n",
    "\n",
    "\n",
    "\n",
    "\n",
    "##  EDA for seconds_heartrate_clean\n"
   ]
  },
  {
   "cell_type": "code",
   "execution_count": null,
   "metadata": {},
   "outputs": [],
   "source": [
    "str(seconds_heartrate_clean)\n",
    "\n"
   ]
  },
  {
   "cell_type": "markdown",
   "metadata": {},
   "source": [
    "\n"
   ]
  },
  {
   "cell_type": "code",
   "execution_count": null,
   "metadata": {},
   "outputs": [],
   "source": [
    "seconds_heartrate_clean %>% summary()\n",
    "\n"
   ]
  },
  {
   "cell_type": "markdown",
   "metadata": {},
   "source": [
    "\n",
    "\n"
   ]
  },
  {
   "cell_type": "code",
   "execution_count": null,
   "metadata": {},
   "outputs": [],
   "source": [
    "n_distinct(seconds_heartrate_clean$id)\n",
    "\n"
   ]
  },
  {
   "cell_type": "markdown",
   "metadata": {},
   "source": [
    "\n",
    "\n"
   ]
  },
  {
   "cell_type": "code",
   "execution_count": null,
   "metadata": {},
   "outputs": [],
   "source": [
    "# Group by 'id' and calculate the average heart rate for each user\n",
    "average_heart_rate <- seconds_heartrate_clean %>%\n",
    "  group_by(id) %>%\n",
    "  summarise(average_heart_rate = mean(heart_rate, na.rm = TRUE))\n",
    "\n",
    "# Bar Plot with smaller bars and custom breaks on the heart rate axis\n",
    "bar_plot <- ggplot(average_heart_rate, aes(x = id, y = average_heart_rate)) +\n",
    "  geom_bar(stat = \"identity\", fill = \"#ADD8E6\", width = 0.8) +  # Adjust the width here (e.g., 0.5 for smaller bars)\n",
    "  labs(x = \"User ID\", y = \"Average Heart Rate\", title = \"Average Heart Rate for Each User\") +\n",
    "  theme_minimal() + coord_flip() +\n",
    "  scale_y_continuous(breaks = seq(0, 100, 10), limits = c(0, 100))+ # Set custom breaks and limits for the y-axis \n",
    "  geom_hline(yintercept = 60, linetype = \"dashed\", color = \"green\") +\n",
    "  geom_hline(yintercept = 100, linetype = \"dashed\", color = \"green\") \n",
    "\n",
    "# Display the bar plot\n",
    "print(bar_plot)\n"
   ]
  },
  {
   "cell_type": "markdown",
   "metadata": {},
   "source": [
    "##  EDA for weight_logs_clean\n",
    "\n"
   ]
  },
  {
   "cell_type": "code",
   "execution_count": null,
   "metadata": {},
   "outputs": [],
   "source": [
    "str(weight_logs_clean)\n",
    "\n"
   ]
  },
  {
   "cell_type": "markdown",
   "metadata": {},
   "source": [
    "- Fat:Body fat percentage recorded.\n",
    "\n",
    "- BMI: Measure of body mass index based on the height and weight in the participant’s Fitbit.com profile.\n",
    "\n",
    "- isManualReport: If the data for this weigh-in was done manually (TRUE), or if data was measured and synced directly to Fitbit.com from a connected scale (FALSE).\n",
    "\n",
    "\n",
    "For more detail check :  [Fitbit data dictionary ](https://www.fitabase.com/resources/knowledge-base/exporting-data/data-dictionaries/)\n"
   ]
  },
  {
   "cell_type": "code",
   "execution_count": null,
   "metadata": {},
   "outputs": [],
   "source": [
    "weight_logs_clean %>% summary()\n",
    "\n"
   ]
  },
  {
   "cell_type": "markdown",
   "metadata": {},
   "source": [
    "\n"
   ]
  },
  {
   "cell_type": "code",
   "execution_count": null,
   "metadata": {},
   "outputs": [],
   "source": [
    "# Create boxplots for \"bmi\" and \"weight_pounds\"\n",
    "\n",
    "columns_to_analyze <- c(\"bmi\", \"weight_pounds\")\n",
    "\n",
    "# Call the function to create boxplots \n",
    "create_boxplots_in_one_output(weight_logs_clean, columns_to_analyze, decimal_places = 2)\n"
   ]
  },
  {
   "cell_type": "markdown",
   "metadata": {},
   "source": [
    "\n",
    "\n"
   ]
  },
  {
   "cell_type": "code",
   "execution_count": null,
   "metadata": {},
   "outputs": [],
   "source": [
    "entry_count <- weight_logs_clean %>%\n",
    "  group_by(id, is_manual_report) %>%\n",
    "  summarize(entry_count = n(), .groups = \"keep\") %>%\n",
    "  arrange (- entry_count)\n",
    "\n",
    "print(entry_count)\n"
   ]
  },
  {
   "cell_type": "markdown",
   "metadata": {},
   "source": [
    "\n",
    "\n"
   ]
  },
  {
   "cell_type": "code",
   "execution_count": null,
   "metadata": {},
   "outputs": [],
   "source": [
    "# Check users that reported fat percentage\n",
    "weight_logs_clean %>% filter(fat != 0)\n"
   ]
  },
  {
   "cell_type": "markdown",
   "metadata": {},
   "source": [
    "Observation:\n",
    "- Only two users reported fat percentage\n"
   ]
  },
  {
   "cell_type": "code",
   "execution_count": null,
   "metadata": {},
   "outputs": [],
   "source": [
    "# Calculate total entries\n",
    "total_entries <- sum(entry_count$entry_count)\n",
    "\n",
    "\n",
    "average_bmi_weight <- weight_logs_clean %>%\n",
    "  group_by(is_manual_report) %>%\n",
    "  summarize(mean_bmi = mean(bmi, na.rm = TRUE),\n",
    "            mean_weight_pounds = mean(weight_pounds, na.rm = TRUE),\n",
    "            entry_count = n(),\n",
    "            entry_count_percentage = round((n()/total_entries)*100,2),\n",
    "            .groups = \"keep\") \n",
    "\n",
    "print(average_bmi_weight)\n"
   ]
  },
  {
   "cell_type": "markdown",
   "metadata": {},
   "source": [
    "Observation:\n",
    "- 61% of users log their weight manually, while 39% sync their weight from other devices\n"
   ]
  },
  {
   "cell_type": "code",
   "execution_count": null,
   "metadata": {},
   "outputs": [],
   "source": [
    "create_custom_box_plot(weight_logs_clean , x_axis_col = \"is_manual_report\", y_axis_col = \"weight_pounds\", orientation = \"hor\", colors = custom_colors)\n",
    "\n"
   ]
  },
  {
   "cell_type": "markdown",
   "metadata": {},
   "source": [
    "\n"
   ]
  },
  {
   "cell_type": "code",
   "execution_count": null,
   "metadata": {},
   "outputs": [],
   "source": [
    "# Use the remove_outliers function we created previously to remove the outliers\n",
    "\n",
    "columns_with_outliers <- c(\"weight_pounds\", \"bmi\")\n",
    "\n",
    "\n",
    "# Loop through each column and remove outliers\n",
    "for (col in columns_with_outliers) {\n",
    "  weight_logs_clean <- remove_outliers(weight_logs_clean, col)\n",
    "}\n"
   ]
  },
  {
   "cell_type": "markdown",
   "metadata": {},
   "source": [
    "\n"
   ]
  },
  {
   "cell_type": "code",
   "execution_count": null,
   "metadata": {},
   "outputs": [],
   "source": [
    "dim(weight_logs_clean)\n",
    "\n"
   ]
  },
  {
   "cell_type": "markdown",
   "metadata": {},
   "source": [
    "\n"
   ]
  },
  {
   "cell_type": "code",
   "execution_count": null,
   "metadata": {},
   "outputs": [],
   "source": [
    "create_custom_box_plot(weight_logs_clean , x_axis_col = \"is_manual_report\", y_axis_col = \"weight_pounds\", orientation = \"hor\", colors = custom_colors)\n",
    "\n"
   ]
  },
  {
   "cell_type": "markdown",
   "metadata": {},
   "source": [
    "Observations:\n",
    "\n",
    "- It appears that users who log their weight data manually have a lower median weight than users who sync their weight from other devices.\n",
    "\n",
    "- The previous observation should be viewed as exploratory and could benefit from additional data. The weight log dataset only has 68 entries; more data would be needed to evaluate these hunches.\n",
    "\n",
    "- The lack of completeness in the weight log dataset could indicate a lack of user engagement.\n",
    "\n",
    "\n",
    "\n",
    "\n",
    "### next\n",
    "\n",
    "\n",
    "- Revise notebook\n",
    "-Check for grammar\n",
    "- Organize references and check headings and formatting\n",
    "- Write final recommendations\n",
    "_ Write limitations\n",
    "- Work on report and final recommendations\n",
    "- Check knit and convert to jupyternotebook\n",
    "- \n",
    "\n",
    "\n",
    "\n",
    "\n",
    "\n",
    "\n",
    "\n",
    "\n",
    "\n",
    "\n",
    "rmd2jupyter(\"Bellabeat_case_study_draft1.Rmd\")\n",
    "\n",
    "\n",
    "\n",
    "\n",
    "\n",
    "\n",
    "# Reference:\n",
    "- EDA: https://rpubs.com/jovial/r \n",
    "\n",
    "- Histograms: https://statisticsbyjim.com/basics/histograms/\n",
    "https://blog.minitab.com/en/3-things-a-histogram-can-tell-you\n",
    "\n",
    "Categorical, ordinal, interval, and ratio variables : https://www.graphpad.com/guides/prism/latest/statistics/the_different_kinds_of_variabl.htm\n",
    "\n",
    "Add density line to histogram: https://r-coder.com/density-plot-r\n",
    "\n",
    "- Error bars vs CI: https://blogs.sas.com/content/iml/2019/10/09/statistic-error-bars-mean.html\n",
    "\n",
    "\n",
    " 1. Plotting histograms with ggplot2:[1.0](https://appsilon.com/ggplot2-histograms/), \n",
    "\n",
    "\n",
    "# Insights and recommendations\n",
    "\n",
    "https://www.cdc.gov/mmwr/volumes/68/wr/mm6823a1.htm\n",
    "\n",
    "\n",
    "\n",
    "\n",
    "\n",
    "https://stackoverflow.com/questions/13035834/plot-every-column-in-a-data-frame-as-a-histogram-on-one-page-using-ggplot \n",
    "\n",
    "\n",
    "\n",
    "\n",
    "https://stackoverflow.com/questions/13035834/plot-every-column-in-a-data-frame-as-a-histogram-on-one-page-using-ggplot\n",
    "\n",
    "\n",
    "# Another source:\n",
    "https://www.kaggle.com/datasets/arashnic/fitbit/discussion/313589?search=data\n",
    "\n",
    "\n",
    "#paper\n",
    "https://dl.acm.org/doi/pdf/10.1145/3339825.3394926\n",
    "\n",
    "\n",
    "\n",
    "\n",
    "\n",
    "\n",
    "this is it:\n",
    "physical innactivity. Plot a barplot with percentages.\n",
    "https://www.cdc.gov/physicalactivity/data/inactivity-prevalence-maps/index.html#Race-Ethnicity\n",
    "\n",
    "\n",
    "information about physical activity guidlines (sex and age):\n",
    "\n",
    "https://www.cdc.gov/nchs/products/databriefs/db443.htm\n",
    "Elgaddal N, Kramarow EA, Reuben C. Physical activity among adults aged 18 and over: United States, 2020. NCHS Data Brief, no 443. Hyattsville, MD: National Center for Health Statistics. 2022. DOI: https://dx.doi.org/10.15620/cdc:120213 \n",
    "\n",
    "\n",
    "\n",
    "--------------------- showing notebook in github\n",
    "\n",
    "\n",
    "convert to jupyter notbook\n",
    "option: https://medium.datadriveninvestor.com/transforming-your-rmd-to-ipynb-file-r-markdown-to-python-jupyter-b1306646f50b \n",
    "\n",
    "\n",
    "\n",
    "Hey all,\n",
    "\n",
    "Sorry if I'm misunderstanding here, but I have been knitting the .Rmd notebook to a .md file within RStudio, and it seems to display very well in GitHub. You can see an example in my repo to see if I'm on track with this thread.\n",
    "\n",
    "The links below give the explanation. Short Version:\n",
    "\n",
    "change \"output=html_document\" to \"output=github_document\"\n",
    "\n",
    "\n",
    "\n",
    "\n",
    "\n",
    "knit the document\n",
    "push the .md file to GitHub instead of the .Rmd\n",
    "be sure to push the '_files' folder to include any images\n",
    "https://rmarkdown.rstudio.com/github_document_format.html\n",
    "https://gist.github.com/JoshuaTPierce/b919168421b40e06481080eb53c3fb2f\n"
   ]
  }
 ],
 "metadata": {
  "anaconda-cloud": "",
  "kernelspec": {
   "display_name": "R",
   "language": "R",
   "name": "ir"
  },
  "language_info": {
   "codemirror_mode": "r",
   "file_extension": ".r",
   "mimetype": "text/x-r-source",
   "name": "R",
   "pygments_lexer": "r",
   "version": "3.4.1"
  }
 },
 "nbformat": 4,
 "nbformat_minor": 4
}
