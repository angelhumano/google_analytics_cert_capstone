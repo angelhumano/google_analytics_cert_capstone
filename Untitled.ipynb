{
 "cells": [
  {
   "cell_type": "code",
   "execution_count": 8,
   "id": "0f4df14f-9fc2-4fa9-a8b8-8c8841c95356",
   "metadata": {},
   "outputs": [],
   "source": [
    "import jupytext\n",
    "\n",
    "# read a notebook from a file\n",
    "nb = jupytext.read(\"test.Rmd\")\n",
    "\n",
    "\n",
    "\n",
    "# write a notebook to a file in the 'py:percent' format\n",
    "jupytext.write(nb, \"notebook.ipynb\", fmt=\"ipynb\")"
   ]
  },
  {
   "cell_type": "code",
   "execution_count": null,
   "id": "70581442-a04e-4433-94a8-499e7fe6b2cf",
   "metadata": {},
   "outputs": [],
   "source": []
  }
 ],
 "metadata": {
  "kernelspec": {
   "display_name": "Python 3 (ipykernel)",
   "language": "python",
   "name": "python3"
  },
  "language_info": {
   "codemirror_mode": {
    "name": "ipython",
    "version": 3
   },
   "file_extension": ".py",
   "mimetype": "text/x-python",
   "name": "python",
   "nbconvert_exporter": "python",
   "pygments_lexer": "ipython3",
   "version": "3.9.13"
  }
 },
 "nbformat": 4,
 "nbformat_minor": 5
}
