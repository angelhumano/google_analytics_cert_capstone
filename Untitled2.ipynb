{
 "cells": [
  {
   "cell_type": "code",
   "execution_count": null,
   "id": "0f0918d6-08a3-4978-ba11-219a696e373f",
   "metadata": {},
   "outputs": [],
   "source": [
    "# Import libraries \n",
    "library(tidyverse) # includes ggplot2\n",
    "library(skimr) #  provides a compact and informative summary of your dataframe or dataset\n",
    "library(lubridate)\n",
    "library(janitor) # set of utility functions for data cleaning and data frame tidying tasks\n",
    "library(RColorBrewer) # Color palettes for data visualization\n",
    "library(ggcorrplot) # Visualize correlation matrices using ggplot2\n",
    "library(scales) # formatting and transforming data for visualizations\n"
   ]
  },
  {
   "cell_type": "code",
   "execution_count": null,
   "id": "c97713a9-73d0-48b2-ae4b-f7f682f5ee71",
   "metadata": {},
   "outputs": [],
   "source": []
  }
 ],
 "metadata": {
  "kernelspec": {
   "display_name": "R",
   "language": "R",
   "name": "ir"
  },
  "language_info": {
   "name": ""
  }
 },
 "nbformat": 4,
 "nbformat_minor": 5
}
