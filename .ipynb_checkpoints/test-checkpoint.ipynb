{
    "cells": [
        {
            "cell_type": "markdown",
            "metadata": {},
            "source": "\n"
        },
        {
            "cell_type": "code",
            "execution_count": null,
            "metadata": {},
            "outputs": [],
            "source": [
                "# Set default options for code chunks\n",
                "knitr::opts_chunk$set(\n",
                "  echo = TRUE,          # Display R code and its output\n",
                "  comment=NA,           # Suppress code comments in output\n",
                "  warning = FALSE,      # Suppress warning messages\n",
                "  fig.align='center',   # Align figures in the center\n",
                "  eval = TRUE           # Evaluate R code\n",
                ")\n"
            ]
        },
        {
            "cell_type": "markdown",
            "metadata": {},
            "source": [
                "\n",
                "\n"
            ]
        },
        {
            "cell_type": "code",
            "execution_count": null,
            "metadata": {},
            "outputs": [],
            "source": [
                "knitr::opts_chunk$set(\n",
                "  echo = TRUE,\n",
                "  comment=NA,\n",
                "  warning = FALSE,\n",
                "  fig.align='center',\n",
                "  eval = TRUE\n",
                ")\n"
            ]
        },
        {
            "cell_type": "markdown",
            "metadata": {},
            "source": [
                "\n",
                "\n"
            ]
        },
        {
            "cell_type": "code",
            "execution_count": null,
            "metadata": {},
            "outputs": [],
            "source": [
                "# Import libraries \n",
                "library(tidyverse) # includes ggplot2\n",
                "library(skimr) #  provides a compact and informative summary of your dataframe or dataset\n",
                "library(lubridate)\n",
                "library(janitor) # set of utility functions for data cleaning and data frame tidying tasks\n",
                "library(RColorBrewer) # Color palettes for data visualization\n",
                "library(ggcorrplot) # Visualize correlation matrices using ggplot2\n",
                "library(scales) # formatting and transforming data for visualizations\n"
            ]
        },
        {
            "cell_type": "markdown",
            "metadata": {},
            "source": [
                "Let us clean:\n",
                "\n",
                "- Change column names to lower case because R is case sensitive.\n",
                "\n",
                "- Change \"Id\" from double to a character because the number represents a category.\n",
                "\n",
                "- Change \"ActivityDate\" from char to date.\n"
            ]
        },
        {
            "cell_type": "code",
            "execution_count": null,
            "metadata": {},
            "outputs": [],
            "source": [
                "weight_logs <-\n",
                "  read_csv(\"original_data/weightLogInfo_merged.csv\",\n",
                "    trim_ws = TRUE,\n",
                "    show_col_types = FALSE\n",
                "  )\n"
            ]
        },
        {
            "cell_type": "markdown",
            "metadata": {},
            "source": [
                "\n",
                "\n"
            ]
        },
        {
            "cell_type": "code",
            "execution_count": null,
            "metadata": {},
            "outputs": [],
            "source": [
                "glimpse(weight_logs)\n",
                "\n"
            ]
        },
        {
            "cell_type": "markdown",
            "metadata": {},
            "source": [
                "\n",
                "\n"
            ]
        },
        {
            "cell_type": "code",
            "execution_count": null,
            "metadata": {},
            "outputs": [],
            "source": [
                "glimpse(weight_logs)\n",
                "\n"
            ]
        },
        {
            "cell_type": "markdown",
            "metadata": {},
            "source": [
                "Observations:\n",
                "\n",
                "- Many variables show a right-skewed distribution: a larger number of data values are located on the left side of the curve.\n",
                "\n",
                "- The variables total_steps, total_distance, tracker_distance have a similar distribution. We can explore their correlations later.\n",
                "\n",
                "- Since the distributions are not normal. The median is a better indicator of central tendency for the numerical variables in these dataset.\n",
                "\n",
                "- **The variable \"logged_activities_distance\" and \"sedentary_active_distance\" might not provide useful information since most of the data points are zero. It seems that the users are not logging the distance frequently.**\n",
                "\n",
                "- The following variables seem related. We will explore them further in the bivariate analysis section:\n",
                "\n",
                "    - sedentary_minutes; sedentary_active_distance \n",
                "    \n",
                "    - lightly_active_minutes; light_active_distance\n",
                "    \n",
                "    - fairly_active_minutes; moderately_active_distance\n",
                "    \n",
                "    - very_active_minutes; very_active_distance   \n",
                "\n",
                "- The variables calories and sedentary_minutes exhibit a multimodal distribution, indicating the presence of subpopulations within the data. In this dataset, gender could be a potential variable that would result in a bimodal distribution when examining histograms of calories and sedentary minutes. Unfortunately, the gender of the users is not provided, limiting our ability to confirm this hypothesis.\n"
            ]
        }
    ],
    "metadata": {
        "anaconda-cloud": "",
        "kernelspec": {
            "display_name": "R",
            "langauge": "R",
            "name": "ir"
        },
        "language_info": {
            "codemirror_mode": "r",
            "file_extension": ".r",
            "mimetype": "text/x-r-source",
            "name": "R",
            "pygments_lexer": "r",
            "version": "3.4.1"
        }
    },
    "nbformat": 4,
    "nbformat_minor": 1
}
